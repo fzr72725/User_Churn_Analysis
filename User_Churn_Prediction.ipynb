{
 "cells": [
  {
   "cell_type": "code",
   "execution_count": 1,
   "metadata": {},
   "outputs": [
    {
     "data": {
      "text/plain": [
       "'/Library/Python/2.7/site-packages'"
      ]
     },
     "execution_count": 1,
     "metadata": {},
     "output_type": "execute_result"
    }
   ],
   "source": [
    "import sys\n",
    "sys.path.pop(0)"
   ]
  },
  {
   "cell_type": "code",
   "execution_count": 2,
   "metadata": {
    "collapsed": true
   },
   "outputs": [],
   "source": [
    "import matplotlib.pyplot as plt\n",
    "import pandas as pd\n",
    "import numpy as np\n",
    "from sklearn.pipeline import Pipeline\n",
    "from sklearn.preprocessing import StandardScaler\n",
    "#import statsmodels.api as sm\n",
    "#import statsmodels.stats.api as sms\n",
    "#import statsmodels.formula.api as smf\n",
    "#from sklearn.linear_model import LinearRegression\n",
    "from sklearn.model_selection import train_test_split\n",
    "#from sklearn.cross_validation import train_test_split\n",
    "from sklearn.preprocessing import scale\n",
    "from sklearn.model_selection import cross_val_score\n",
    "#from sklearn.cross_validation import cross_val_score\n",
    "import sklearn.metrics\n",
    "from sklearn.ensemble import RandomForestClassifier, GradientBoostingClassifier, GradientBoostingRegressor\n",
    "#from sklearn.grid_search import GridSearchCV\n",
    "from sklearn.model_selection import GridSearchCV\n",
    "\n",
    "%matplotlib inline"
   ]
  },
  {
   "cell_type": "code",
   "execution_count": 112,
   "metadata": {
    "collapsed": true
   },
   "outputs": [],
   "source": [
    "sys.path.append('/Library/Python/2.7/site-packages')"
   ]
  },
  {
   "cell_type": "code",
   "execution_count": 3,
   "metadata": {
    "collapsed": true
   },
   "outputs": [],
   "source": [
    "df_train_orig = pd.read_csv('data/churn_train.csv')\n",
    "df_test_orig = pd.read_csv('data/churn_test.csv')"
   ]
  },
  {
   "cell_type": "code",
   "execution_count": 9,
   "metadata": {},
   "outputs": [
    {
     "data": {
      "text/plain": [
       "(40000, 12)"
      ]
     },
     "execution_count": 9,
     "metadata": {},
     "output_type": "execute_result"
    }
   ],
   "source": [
    "df_train_orig.shape"
   ]
  },
  {
   "cell_type": "code",
   "execution_count": 17,
   "metadata": {},
   "outputs": [
    {
     "data": {
      "text/plain": [
       "str"
      ]
     },
     "execution_count": 17,
     "metadata": {},
     "output_type": "execute_result"
    }
   ],
   "source": [
    "type(df_train_orig.last_trip_date[0])"
   ]
  },
  {
   "cell_type": "code",
   "execution_count": 8,
   "metadata": {},
   "outputs": [
    {
     "data": {
      "text/html": [
       "<div>\n",
       "<style scoped>\n",
       "    .dataframe tbody tr th:only-of-type {\n",
       "        vertical-align: middle;\n",
       "    }\n",
       "\n",
       "    .dataframe tbody tr th {\n",
       "        vertical-align: top;\n",
       "    }\n",
       "\n",
       "    .dataframe thead th {\n",
       "        text-align: right;\n",
       "    }\n",
       "</style>\n",
       "<table border=\"1\" class=\"dataframe\">\n",
       "  <thead>\n",
       "    <tr style=\"text-align: right;\">\n",
       "      <th></th>\n",
       "      <th>avg_dist</th>\n",
       "      <th>avg_rating_by_driver</th>\n",
       "      <th>avg_rating_of_driver</th>\n",
       "      <th>avg_surge</th>\n",
       "      <th>city</th>\n",
       "      <th>last_trip_date</th>\n",
       "      <th>phone</th>\n",
       "      <th>signup_date</th>\n",
       "      <th>surge_pct</th>\n",
       "      <th>trips_in_first_30_days</th>\n",
       "      <th>luxury_car_user</th>\n",
       "      <th>weekday_pct</th>\n",
       "    </tr>\n",
       "  </thead>\n",
       "  <tbody>\n",
       "    <tr>\n",
       "      <th>0</th>\n",
       "      <td>6.94</td>\n",
       "      <td>5.0</td>\n",
       "      <td>5.0</td>\n",
       "      <td>1.00</td>\n",
       "      <td>Astapor</td>\n",
       "      <td>2014-05-03</td>\n",
       "      <td>Android</td>\n",
       "      <td>2014-01-12</td>\n",
       "      <td>0.0</td>\n",
       "      <td>0</td>\n",
       "      <td>False</td>\n",
       "      <td>100.0</td>\n",
       "    </tr>\n",
       "    <tr>\n",
       "      <th>1</th>\n",
       "      <td>8.06</td>\n",
       "      <td>5.0</td>\n",
       "      <td>5.0</td>\n",
       "      <td>1.00</td>\n",
       "      <td>Astapor</td>\n",
       "      <td>2014-01-26</td>\n",
       "      <td>Android</td>\n",
       "      <td>2014-01-25</td>\n",
       "      <td>0.0</td>\n",
       "      <td>2</td>\n",
       "      <td>True</td>\n",
       "      <td>0.0</td>\n",
       "    </tr>\n",
       "    <tr>\n",
       "      <th>2</th>\n",
       "      <td>21.50</td>\n",
       "      <td>4.0</td>\n",
       "      <td>NaN</td>\n",
       "      <td>1.00</td>\n",
       "      <td>Winterfell</td>\n",
       "      <td>2014-05-21</td>\n",
       "      <td>iPhone</td>\n",
       "      <td>2014-01-02</td>\n",
       "      <td>0.0</td>\n",
       "      <td>1</td>\n",
       "      <td>True</td>\n",
       "      <td>100.0</td>\n",
       "    </tr>\n",
       "    <tr>\n",
       "      <th>3</th>\n",
       "      <td>9.46</td>\n",
       "      <td>5.0</td>\n",
       "      <td>NaN</td>\n",
       "      <td>2.75</td>\n",
       "      <td>Winterfell</td>\n",
       "      <td>2014-01-10</td>\n",
       "      <td>Android</td>\n",
       "      <td>2014-01-09</td>\n",
       "      <td>100.0</td>\n",
       "      <td>1</td>\n",
       "      <td>False</td>\n",
       "      <td>100.0</td>\n",
       "    </tr>\n",
       "    <tr>\n",
       "      <th>4</th>\n",
       "      <td>13.77</td>\n",
       "      <td>5.0</td>\n",
       "      <td>NaN</td>\n",
       "      <td>1.00</td>\n",
       "      <td>Winterfell</td>\n",
       "      <td>2014-05-13</td>\n",
       "      <td>iPhone</td>\n",
       "      <td>2014-01-31</td>\n",
       "      <td>0.0</td>\n",
       "      <td>0</td>\n",
       "      <td>False</td>\n",
       "      <td>100.0</td>\n",
       "    </tr>\n",
       "  </tbody>\n",
       "</table>\n",
       "</div>"
      ],
      "text/plain": [
       "   avg_dist  avg_rating_by_driver  avg_rating_of_driver  avg_surge  \\\n",
       "0      6.94                   5.0                   5.0       1.00   \n",
       "1      8.06                   5.0                   5.0       1.00   \n",
       "2     21.50                   4.0                   NaN       1.00   \n",
       "3      9.46                   5.0                   NaN       2.75   \n",
       "4     13.77                   5.0                   NaN       1.00   \n",
       "\n",
       "         city last_trip_date    phone signup_date  surge_pct  \\\n",
       "0     Astapor     2014-05-03  Android  2014-01-12        0.0   \n",
       "1     Astapor     2014-01-26  Android  2014-01-25        0.0   \n",
       "2  Winterfell     2014-05-21   iPhone  2014-01-02        0.0   \n",
       "3  Winterfell     2014-01-10  Android  2014-01-09      100.0   \n",
       "4  Winterfell     2014-05-13   iPhone  2014-01-31        0.0   \n",
       "\n",
       "   trips_in_first_30_days  luxury_car_user  weekday_pct  \n",
       "0                       0            False        100.0  \n",
       "1                       2             True          0.0  \n",
       "2                       1             True        100.0  \n",
       "3                       1            False        100.0  \n",
       "4                       0            False        100.0  "
      ]
     },
     "execution_count": 8,
     "metadata": {},
     "output_type": "execute_result"
    }
   ],
   "source": [
    "df_train_orig.head()"
   ]
  },
  {
   "cell_type": "code",
   "execution_count": 5,
   "metadata": {
    "collapsed": true
   },
   "outputs": [],
   "source": [
    "def check_nan(df, cols):\n",
    "    for c in cols:\n",
    "        if sum(df[c].isnull())>0:\n",
    "            print (c , ' has ' , sum(df[c].isnull()) , 'null/NAN values')\n",
    "    return True"
   ]
  },
  {
   "cell_type": "code",
   "execution_count": 6,
   "metadata": {},
   "outputs": [
    {
     "name": "stdout",
     "output_type": "stream",
     "text": [
      "avg_rating_by_driver  has  162 null/NAN values\n",
      "avg_rating_of_driver  has  6528 null/NAN values\n",
      "phone  has  319 null/NAN values\n"
     ]
    },
    {
     "data": {
      "text/plain": [
       "True"
      ]
     },
     "execution_count": 6,
     "metadata": {},
     "output_type": "execute_result"
    }
   ],
   "source": [
    "check_nan(df_train_orig, df_train_orig.columns)"
   ]
  },
  {
   "cell_type": "code",
   "execution_count": 7,
   "metadata": {},
   "outputs": [
    {
     "name": "stdout",
     "output_type": "stream",
     "text": [
      "avg_rating_by_driver  has  39 null/NAN values\n",
      "avg_rating_of_driver  has  1594 null/NAN values\n",
      "phone  has  77 null/NAN values\n"
     ]
    },
    {
     "data": {
      "text/plain": [
       "True"
      ]
     },
     "execution_count": 7,
     "metadata": {},
     "output_type": "execute_result"
    }
   ],
   "source": [
    "check_nan(df_test_orig, df_test_orig.columns)"
   ]
  },
  {
   "cell_type": "markdown",
   "metadata": {},
   "source": [
    "## Data Cleaning"
   ]
  },
  {
   "cell_type": "code",
   "execution_count": 133,
   "metadata": {
    "collapsed": true
   },
   "outputs": [],
   "source": [
    "df_train_orig = pd.read_csv('data/churn_train.csv')\n",
    "df_test_orig = pd.read_csv('data/churn_test.csv')\n",
    "\n",
    "df_train = df_train_orig\n",
    "df_test = df_test_orig\n",
    "\n",
    "df_train['last_trip_date_ym'] = df_train['last_trip_date'].apply(lambda x: x[:-3])\n",
    "# general target label column\n",
    "df_train['churn'] = (df_train['last_trip_date_ym']!='2014-06')&(df_train['last_trip_date_ym']!='2014-07')\n",
    "\n",
    "# generate duration column\n",
    "from datetime import datetime\n",
    "df_train['signup_date_new'] = pd.to_datetime(df_train['signup_date'])\n",
    "df_train['member_duration'] = pd.to_datetime('2014-07-01')-df_train['signup_date_new']\n",
    "df_train['member_duration'] = df_train['member_duration'].dt.days\n",
    "\n",
    "df_test['signup_date_new'] = pd.to_datetime(df_test['signup_date'])\n",
    "df_test['member_duration'] = pd.to_datetime('2014-07-01')-df_test['signup_date_new']\n",
    "df_test['member_duration'] = df_test['member_duration'].dt.days\n",
    "\n",
    "def brutal_fillna(df):\n",
    "    for c in df.columns:\n",
    "        if sum(df[c].isnull())>0:\n",
    "            cond = df[c].notnull()\n",
    "            if df[c].dtype=='object':\n",
    "                new_val = df[cond].groupby([c])[c].count().sort_values(ascending=False)[0]\n",
    "            else:\n",
    "                new_val = df[cond][c].mean()\n",
    "            df[c]=df[c].fillna(new_val)\n",
    "    return df\n",
    "\n",
    "df_train = brutal_fillna(df_train_orig)\n",
    "df_test = brutal_fillna(df_test_orig)"
   ]
  },
  {
   "cell_type": "code",
   "execution_count": 13,
   "metadata": {
    "collapsed": true
   },
   "outputs": [],
   "source": [
    "df_test = brutal_fillna(df_test_orig)"
   ]
  },
  {
   "cell_type": "code",
   "execution_count": 15,
   "metadata": {},
   "outputs": [
    {
     "name": "stdout",
     "output_type": "stream",
     "text": [
      "<class 'pandas.core.frame.DataFrame'>\n",
      "Int64Index: 33132 entries, 0 to 39999\n",
      "Data columns (total 12 columns):\n",
      "avg_dist                  33132 non-null float64\n",
      "avg_rating_by_driver      33132 non-null float64\n",
      "avg_rating_of_driver      33132 non-null float64\n",
      "avg_surge                 33132 non-null float64\n",
      "city                      33132 non-null object\n",
      "last_trip_date            33132 non-null object\n",
      "phone                     33132 non-null object\n",
      "signup_date               33132 non-null object\n",
      "surge_pct                 33132 non-null float64\n",
      "trips_in_first_30_days    33132 non-null int64\n",
      "luxury_car_user           33132 non-null bool\n",
      "weekday_pct               33132 non-null float64\n",
      "dtypes: bool(1), float64(6), int64(1), object(4)\n",
      "memory usage: 3.1+ MB\n"
     ]
    }
   ],
   "source": [
    "df_train.info()"
   ]
  },
  {
   "cell_type": "code",
   "execution_count": 21,
   "metadata": {},
   "outputs": [
    {
     "name": "stderr",
     "output_type": "stream",
     "text": [
      "/Users/ziru/anaconda/envs/py3/lib/python3.6/site-packages/ipykernel_launcher.py:1: SettingWithCopyWarning: \n",
      "A value is trying to be set on a copy of a slice from a DataFrame.\n",
      "Try using .loc[row_indexer,col_indexer] = value instead\n",
      "\n",
      "See the caveats in the documentation: http://pandas.pydata.org/pandas-docs/stable/indexing.html#indexing-view-versus-copy\n",
      "  \"\"\"Entry point for launching an IPython kernel.\n"
     ]
    }
   ],
   "source": [
    "df_train['last_trip_date_ym'] = df_train['last_trip_date'].apply(lambda x: x[:-3])"
   ]
  },
  {
   "cell_type": "code",
   "execution_count": 22,
   "metadata": {
    "collapsed": true
   },
   "outputs": [],
   "source": [
    "dr_train_new = df_train"
   ]
  },
  {
   "cell_type": "code",
   "execution_count": 24,
   "metadata": {},
   "outputs": [
    {
     "data": {
      "text/html": [
       "<div>\n",
       "<style scoped>\n",
       "    .dataframe tbody tr th:only-of-type {\n",
       "        vertical-align: middle;\n",
       "    }\n",
       "\n",
       "    .dataframe tbody tr th {\n",
       "        vertical-align: top;\n",
       "    }\n",
       "\n",
       "    .dataframe thead th {\n",
       "        text-align: right;\n",
       "    }\n",
       "</style>\n",
       "<table border=\"1\" class=\"dataframe\">\n",
       "  <thead>\n",
       "    <tr style=\"text-align: right;\">\n",
       "      <th></th>\n",
       "      <th>avg_dist</th>\n",
       "      <th>avg_rating_by_driver</th>\n",
       "      <th>avg_rating_of_driver</th>\n",
       "      <th>avg_surge</th>\n",
       "      <th>city</th>\n",
       "      <th>last_trip_date</th>\n",
       "      <th>phone</th>\n",
       "      <th>signup_date</th>\n",
       "      <th>surge_pct</th>\n",
       "      <th>trips_in_first_30_days</th>\n",
       "      <th>luxury_car_user</th>\n",
       "      <th>weekday_pct</th>\n",
       "      <th>last_trip_date_ym</th>\n",
       "    </tr>\n",
       "  </thead>\n",
       "  <tbody>\n",
       "    <tr>\n",
       "      <th>0</th>\n",
       "      <td>6.94</td>\n",
       "      <td>5.0</td>\n",
       "      <td>5.0</td>\n",
       "      <td>1.0</td>\n",
       "      <td>Astapor</td>\n",
       "      <td>2014-05-03</td>\n",
       "      <td>Android</td>\n",
       "      <td>2014-01-12</td>\n",
       "      <td>0.0</td>\n",
       "      <td>0</td>\n",
       "      <td>False</td>\n",
       "      <td>100.0</td>\n",
       "      <td>2014-05</td>\n",
       "    </tr>\n",
       "    <tr>\n",
       "      <th>1</th>\n",
       "      <td>8.06</td>\n",
       "      <td>5.0</td>\n",
       "      <td>5.0</td>\n",
       "      <td>1.0</td>\n",
       "      <td>Astapor</td>\n",
       "      <td>2014-01-26</td>\n",
       "      <td>Android</td>\n",
       "      <td>2014-01-25</td>\n",
       "      <td>0.0</td>\n",
       "      <td>2</td>\n",
       "      <td>True</td>\n",
       "      <td>0.0</td>\n",
       "      <td>2014-01</td>\n",
       "    </tr>\n",
       "    <tr>\n",
       "      <th>6</th>\n",
       "      <td>4.87</td>\n",
       "      <td>4.7</td>\n",
       "      <td>4.0</td>\n",
       "      <td>1.0</td>\n",
       "      <td>Astapor</td>\n",
       "      <td>2014-04-21</td>\n",
       "      <td>Android</td>\n",
       "      <td>2014-01-18</td>\n",
       "      <td>0.0</td>\n",
       "      <td>0</td>\n",
       "      <td>False</td>\n",
       "      <td>66.7</td>\n",
       "      <td>2014-04</td>\n",
       "    </tr>\n",
       "    <tr>\n",
       "      <th>7</th>\n",
       "      <td>1.78</td>\n",
       "      <td>4.0</td>\n",
       "      <td>5.0</td>\n",
       "      <td>1.0</td>\n",
       "      <td>Winterfell</td>\n",
       "      <td>2014-01-12</td>\n",
       "      <td>iPhone</td>\n",
       "      <td>2014-01-11</td>\n",
       "      <td>0.0</td>\n",
       "      <td>3</td>\n",
       "      <td>False</td>\n",
       "      <td>0.0</td>\n",
       "      <td>2014-01</td>\n",
       "    </tr>\n",
       "    <tr>\n",
       "      <th>8</th>\n",
       "      <td>6.87</td>\n",
       "      <td>5.0</td>\n",
       "      <td>4.7</td>\n",
       "      <td>1.0</td>\n",
       "      <td>Astapor</td>\n",
       "      <td>2014-01-30</td>\n",
       "      <td>Android</td>\n",
       "      <td>2014-01-01</td>\n",
       "      <td>0.0</td>\n",
       "      <td>3</td>\n",
       "      <td>False</td>\n",
       "      <td>66.7</td>\n",
       "      <td>2014-01</td>\n",
       "    </tr>\n",
       "  </tbody>\n",
       "</table>\n",
       "</div>"
      ],
      "text/plain": [
       "   avg_dist  avg_rating_by_driver  avg_rating_of_driver  avg_surge  \\\n",
       "0      6.94                   5.0                   5.0        1.0   \n",
       "1      8.06                   5.0                   5.0        1.0   \n",
       "6      4.87                   4.7                   4.0        1.0   \n",
       "7      1.78                   4.0                   5.0        1.0   \n",
       "8      6.87                   5.0                   4.7        1.0   \n",
       "\n",
       "         city last_trip_date    phone signup_date  surge_pct  \\\n",
       "0     Astapor     2014-05-03  Android  2014-01-12        0.0   \n",
       "1     Astapor     2014-01-26  Android  2014-01-25        0.0   \n",
       "6     Astapor     2014-04-21  Android  2014-01-18        0.0   \n",
       "7  Winterfell     2014-01-12   iPhone  2014-01-11        0.0   \n",
       "8     Astapor     2014-01-30  Android  2014-01-01        0.0   \n",
       "\n",
       "   trips_in_first_30_days  luxury_car_user  weekday_pct last_trip_date_ym  \n",
       "0                       0            False        100.0           2014-05  \n",
       "1                       2             True          0.0           2014-01  \n",
       "6                       0            False         66.7           2014-04  \n",
       "7                       3            False          0.0           2014-01  \n",
       "8                       3            False         66.7           2014-01  "
      ]
     },
     "execution_count": 24,
     "metadata": {},
     "output_type": "execute_result"
    }
   ],
   "source": [
    "dr_train_new.head()"
   ]
  },
  {
   "cell_type": "code",
   "execution_count": 34,
   "metadata": {},
   "outputs": [
    {
     "data": {
      "text/plain": [
       "array(['2014-05', '2014-01', '2014-04', '2014-06', '2014-03', '2014-02',\n",
       "       '2014-07', nan], dtype=object)"
      ]
     },
     "execution_count": 34,
     "metadata": {},
     "output_type": "execute_result"
    }
   ],
   "source": [
    "dr_train_new['last_trip_date_ym'].unique()"
   ]
  },
  {
   "cell_type": "code",
   "execution_count": 35,
   "metadata": {},
   "outputs": [
    {
     "name": "stderr",
     "output_type": "stream",
     "text": [
      "/Users/ziru/anaconda/envs/py3/lib/python3.6/site-packages/ipykernel_launcher.py:1: SettingWithCopyWarning: \n",
      "A value is trying to be set on a copy of a slice from a DataFrame.\n",
      "Try using .loc[row_indexer,col_indexer] = value instead\n",
      "\n",
      "See the caveats in the documentation: http://pandas.pydata.org/pandas-docs/stable/indexing.html#indexing-view-versus-copy\n",
      "  \"\"\"Entry point for launching an IPython kernel.\n"
     ]
    }
   ],
   "source": [
    "dr_train_new['churn'] = (dr_train_new['last_trip_date_ym']=='2014-06')|(dr_train_new['last_trip_date_ym']=='2014-07')"
   ]
  },
  {
   "cell_type": "code",
   "execution_count": 36,
   "metadata": {},
   "outputs": [
    {
     "data": {
      "text/html": [
       "<div>\n",
       "<style scoped>\n",
       "    .dataframe tbody tr th:only-of-type {\n",
       "        vertical-align: middle;\n",
       "    }\n",
       "\n",
       "    .dataframe tbody tr th {\n",
       "        vertical-align: top;\n",
       "    }\n",
       "\n",
       "    .dataframe thead th {\n",
       "        text-align: right;\n",
       "    }\n",
       "</style>\n",
       "<table border=\"1\" class=\"dataframe\">\n",
       "  <thead>\n",
       "    <tr style=\"text-align: right;\">\n",
       "      <th></th>\n",
       "      <th>avg_dist</th>\n",
       "      <th>avg_rating_by_driver</th>\n",
       "      <th>avg_rating_of_driver</th>\n",
       "      <th>avg_surge</th>\n",
       "      <th>city</th>\n",
       "      <th>last_trip_date</th>\n",
       "      <th>phone</th>\n",
       "      <th>signup_date</th>\n",
       "      <th>surge_pct</th>\n",
       "      <th>trips_in_first_30_days</th>\n",
       "      <th>luxury_car_user</th>\n",
       "      <th>weekday_pct</th>\n",
       "      <th>last_trip_date_ym</th>\n",
       "      <th>churn</th>\n",
       "    </tr>\n",
       "  </thead>\n",
       "  <tbody>\n",
       "    <tr>\n",
       "      <th>0</th>\n",
       "      <td>6.94</td>\n",
       "      <td>5.0</td>\n",
       "      <td>5.0</td>\n",
       "      <td>1.0</td>\n",
       "      <td>Astapor</td>\n",
       "      <td>2014-05-03</td>\n",
       "      <td>Android</td>\n",
       "      <td>2014-01-12</td>\n",
       "      <td>0.0</td>\n",
       "      <td>0.0</td>\n",
       "      <td>0.0</td>\n",
       "      <td>100.0</td>\n",
       "      <td>2014-05</td>\n",
       "      <td>False</td>\n",
       "    </tr>\n",
       "    <tr>\n",
       "      <th>1</th>\n",
       "      <td>8.06</td>\n",
       "      <td>5.0</td>\n",
       "      <td>5.0</td>\n",
       "      <td>1.0</td>\n",
       "      <td>Astapor</td>\n",
       "      <td>2014-01-26</td>\n",
       "      <td>Android</td>\n",
       "      <td>2014-01-25</td>\n",
       "      <td>0.0</td>\n",
       "      <td>2.0</td>\n",
       "      <td>1.0</td>\n",
       "      <td>0.0</td>\n",
       "      <td>2014-01</td>\n",
       "      <td>False</td>\n",
       "    </tr>\n",
       "    <tr>\n",
       "      <th>6</th>\n",
       "      <td>4.87</td>\n",
       "      <td>4.7</td>\n",
       "      <td>4.0</td>\n",
       "      <td>1.0</td>\n",
       "      <td>Astapor</td>\n",
       "      <td>2014-04-21</td>\n",
       "      <td>Android</td>\n",
       "      <td>2014-01-18</td>\n",
       "      <td>0.0</td>\n",
       "      <td>0.0</td>\n",
       "      <td>0.0</td>\n",
       "      <td>66.7</td>\n",
       "      <td>2014-04</td>\n",
       "      <td>False</td>\n",
       "    </tr>\n",
       "    <tr>\n",
       "      <th>7</th>\n",
       "      <td>1.78</td>\n",
       "      <td>4.0</td>\n",
       "      <td>5.0</td>\n",
       "      <td>1.0</td>\n",
       "      <td>Winterfell</td>\n",
       "      <td>2014-01-12</td>\n",
       "      <td>iPhone</td>\n",
       "      <td>2014-01-11</td>\n",
       "      <td>0.0</td>\n",
       "      <td>3.0</td>\n",
       "      <td>0.0</td>\n",
       "      <td>0.0</td>\n",
       "      <td>2014-01</td>\n",
       "      <td>False</td>\n",
       "    </tr>\n",
       "    <tr>\n",
       "      <th>8</th>\n",
       "      <td>6.87</td>\n",
       "      <td>5.0</td>\n",
       "      <td>4.7</td>\n",
       "      <td>1.0</td>\n",
       "      <td>Astapor</td>\n",
       "      <td>2014-01-30</td>\n",
       "      <td>Android</td>\n",
       "      <td>2014-01-01</td>\n",
       "      <td>0.0</td>\n",
       "      <td>3.0</td>\n",
       "      <td>0.0</td>\n",
       "      <td>66.7</td>\n",
       "      <td>2014-01</td>\n",
       "      <td>False</td>\n",
       "    </tr>\n",
       "  </tbody>\n",
       "</table>\n",
       "</div>"
      ],
      "text/plain": [
       "   avg_dist  avg_rating_by_driver  avg_rating_of_driver  avg_surge  \\\n",
       "0      6.94                   5.0                   5.0        1.0   \n",
       "1      8.06                   5.0                   5.0        1.0   \n",
       "6      4.87                   4.7                   4.0        1.0   \n",
       "7      1.78                   4.0                   5.0        1.0   \n",
       "8      6.87                   5.0                   4.7        1.0   \n",
       "\n",
       "         city last_trip_date    phone signup_date  surge_pct  \\\n",
       "0     Astapor     2014-05-03  Android  2014-01-12        0.0   \n",
       "1     Astapor     2014-01-26  Android  2014-01-25        0.0   \n",
       "6     Astapor     2014-04-21  Android  2014-01-18        0.0   \n",
       "7  Winterfell     2014-01-12   iPhone  2014-01-11        0.0   \n",
       "8     Astapor     2014-01-30  Android  2014-01-01        0.0   \n",
       "\n",
       "   trips_in_first_30_days  luxury_car_user  weekday_pct last_trip_date_ym  \\\n",
       "0                     0.0              0.0        100.0           2014-05   \n",
       "1                     2.0              1.0          0.0           2014-01   \n",
       "6                     0.0              0.0         66.7           2014-04   \n",
       "7                     3.0              0.0          0.0           2014-01   \n",
       "8                     3.0              0.0         66.7           2014-01   \n",
       "\n",
       "   churn  \n",
       "0  False  \n",
       "1  False  \n",
       "6  False  \n",
       "7  False  \n",
       "8  False  "
      ]
     },
     "execution_count": 36,
     "metadata": {},
     "output_type": "execute_result"
    }
   ],
   "source": [
    "dr_train_new.head()"
   ]
  },
  {
   "cell_type": "markdown",
   "metadata": {},
   "source": [
    "### Check class balance"
   ]
  },
  {
   "cell_type": "code",
   "execution_count": 37,
   "metadata": {},
   "outputs": [
    {
     "data": {
      "text/plain": [
       "0.41049708749585007"
      ]
     },
     "execution_count": 37,
     "metadata": {},
     "output_type": "execute_result"
    }
   ],
   "source": [
    "1.*sum(dr_train_new['churn']==True)/len(dr_train_new['churn'])"
   ]
  },
  {
   "cell_type": "code",
   "execution_count": 154,
   "metadata": {},
   "outputs": [
    {
     "data": {
      "text/plain": [
       "0.6242"
      ]
     },
     "execution_count": 154,
     "metadata": {},
     "output_type": "execute_result"
    }
   ],
   "source": [
    "1.*sum(df_train.churn)/len(df_train.churn)"
   ]
  },
  {
   "cell_type": "code",
   "execution_count": 135,
   "metadata": {},
   "outputs": [
    {
     "data": {
      "text/html": [
       "<div>\n",
       "<style scoped>\n",
       "    .dataframe tbody tr th:only-of-type {\n",
       "        vertical-align: middle;\n",
       "    }\n",
       "\n",
       "    .dataframe tbody tr th {\n",
       "        vertical-align: top;\n",
       "    }\n",
       "\n",
       "    .dataframe thead th {\n",
       "        text-align: right;\n",
       "    }\n",
       "</style>\n",
       "<table border=\"1\" class=\"dataframe\">\n",
       "  <thead>\n",
       "    <tr style=\"text-align: right;\">\n",
       "      <th></th>\n",
       "      <th>avg_dist</th>\n",
       "      <th>avg_rating_by_driver</th>\n",
       "      <th>avg_rating_of_driver</th>\n",
       "      <th>avg_surge</th>\n",
       "      <th>city</th>\n",
       "      <th>last_trip_date</th>\n",
       "      <th>phone</th>\n",
       "      <th>signup_date</th>\n",
       "      <th>surge_pct</th>\n",
       "      <th>trips_in_first_30_days</th>\n",
       "      <th>luxury_car_user</th>\n",
       "      <th>weekday_pct</th>\n",
       "      <th>signup_date_new</th>\n",
       "      <th>member_duration</th>\n",
       "    </tr>\n",
       "  </thead>\n",
       "  <tbody>\n",
       "    <tr>\n",
       "      <th>0</th>\n",
       "      <td>2.48</td>\n",
       "      <td>5.0</td>\n",
       "      <td>5.000000</td>\n",
       "      <td>1.0</td>\n",
       "      <td>Winterfell</td>\n",
       "      <td>2014-01-07</td>\n",
       "      <td>Android</td>\n",
       "      <td>2014-01-06</td>\n",
       "      <td>0.0</td>\n",
       "      <td>2</td>\n",
       "      <td>True</td>\n",
       "      <td>100.0</td>\n",
       "      <td>2014-01-06</td>\n",
       "      <td>176</td>\n",
       "    </tr>\n",
       "    <tr>\n",
       "      <th>1</th>\n",
       "      <td>10.81</td>\n",
       "      <td>5.0</td>\n",
       "      <td>5.000000</td>\n",
       "      <td>1.0</td>\n",
       "      <td>Winterfell</td>\n",
       "      <td>2014-04-29</td>\n",
       "      <td>iPhone</td>\n",
       "      <td>2014-01-06</td>\n",
       "      <td>0.0</td>\n",
       "      <td>3</td>\n",
       "      <td>True</td>\n",
       "      <td>100.0</td>\n",
       "      <td>2014-01-06</td>\n",
       "      <td>176</td>\n",
       "    </tr>\n",
       "    <tr>\n",
       "      <th>2</th>\n",
       "      <td>12.95</td>\n",
       "      <td>5.0</td>\n",
       "      <td>5.000000</td>\n",
       "      <td>1.0</td>\n",
       "      <td>Astapor</td>\n",
       "      <td>2014-01-29</td>\n",
       "      <td>Android</td>\n",
       "      <td>2014-01-19</td>\n",
       "      <td>0.0</td>\n",
       "      <td>1</td>\n",
       "      <td>True</td>\n",
       "      <td>100.0</td>\n",
       "      <td>2014-01-19</td>\n",
       "      <td>163</td>\n",
       "    </tr>\n",
       "    <tr>\n",
       "      <th>3</th>\n",
       "      <td>3.92</td>\n",
       "      <td>5.0</td>\n",
       "      <td>4.601011</td>\n",
       "      <td>1.0</td>\n",
       "      <td>Winterfell</td>\n",
       "      <td>2014-02-16</td>\n",
       "      <td>iPhone</td>\n",
       "      <td>2014-01-09</td>\n",
       "      <td>0.0</td>\n",
       "      <td>0</td>\n",
       "      <td>False</td>\n",
       "      <td>0.0</td>\n",
       "      <td>2014-01-09</td>\n",
       "      <td>173</td>\n",
       "    </tr>\n",
       "    <tr>\n",
       "      <th>4</th>\n",
       "      <td>1.46</td>\n",
       "      <td>5.0</td>\n",
       "      <td>4.500000</td>\n",
       "      <td>1.0</td>\n",
       "      <td>Astapor</td>\n",
       "      <td>2014-01-09</td>\n",
       "      <td>iPhone</td>\n",
       "      <td>2014-01-07</td>\n",
       "      <td>0.0</td>\n",
       "      <td>2</td>\n",
       "      <td>False</td>\n",
       "      <td>100.0</td>\n",
       "      <td>2014-01-07</td>\n",
       "      <td>175</td>\n",
       "    </tr>\n",
       "  </tbody>\n",
       "</table>\n",
       "</div>"
      ],
      "text/plain": [
       "   avg_dist  avg_rating_by_driver  avg_rating_of_driver  avg_surge  \\\n",
       "0      2.48                   5.0              5.000000        1.0   \n",
       "1     10.81                   5.0              5.000000        1.0   \n",
       "2     12.95                   5.0              5.000000        1.0   \n",
       "3      3.92                   5.0              4.601011        1.0   \n",
       "4      1.46                   5.0              4.500000        1.0   \n",
       "\n",
       "         city last_trip_date    phone signup_date  surge_pct  \\\n",
       "0  Winterfell     2014-01-07  Android  2014-01-06        0.0   \n",
       "1  Winterfell     2014-04-29   iPhone  2014-01-06        0.0   \n",
       "2     Astapor     2014-01-29  Android  2014-01-19        0.0   \n",
       "3  Winterfell     2014-02-16   iPhone  2014-01-09        0.0   \n",
       "4     Astapor     2014-01-09   iPhone  2014-01-07        0.0   \n",
       "\n",
       "   trips_in_first_30_days  luxury_car_user  weekday_pct signup_date_new  \\\n",
       "0                       2             True        100.0      2014-01-06   \n",
       "1                       3             True        100.0      2014-01-06   \n",
       "2                       1             True        100.0      2014-01-19   \n",
       "3                       0            False          0.0      2014-01-09   \n",
       "4                       2            False        100.0      2014-01-07   \n",
       "\n",
       "   member_duration  \n",
       "0              176  \n",
       "1              176  \n",
       "2              163  \n",
       "3              173  \n",
       "4              175  "
      ]
     },
     "execution_count": 135,
     "metadata": {},
     "output_type": "execute_result"
    }
   ],
   "source": [
    "df_test.head()"
   ]
  },
  {
   "cell_type": "code",
   "execution_count": 136,
   "metadata": {
    "collapsed": true
   },
   "outputs": [],
   "source": [
    "train_feature_round1 = ['churn','member_duration','avg_dist', 'phone', 'city', 'luxury_car_user', 'trips_in_first_30_days', 'surge_pct']\n",
    "test_feature_round1 = ['member_duration','avg_dist', 'phone', 'city', 'luxury_car_user', 'trips_in_first_30_days', 'surge_pct']"
   ]
  },
  {
   "cell_type": "code",
   "execution_count": 137,
   "metadata": {
    "collapsed": true
   },
   "outputs": [],
   "source": [
    "df_train_round1 = df_train[train_feature_round1]\n",
    "df_test_round1 = df_test[test_feature_round1]"
   ]
  },
  {
   "cell_type": "markdown",
   "metadata": {},
   "source": [
    "**merge train and test and dummified**"
   ]
  },
  {
   "cell_type": "code",
   "execution_count": 138,
   "metadata": {
    "collapsed": true
   },
   "outputs": [],
   "source": [
    "train_len = len(df_train)\n",
    "master_set_round1 =  pd.concat(objs=[df_train_round1, df_test_round1], axis=0).reset_index(drop=True)"
   ]
  },
  {
   "cell_type": "code",
   "execution_count": 139,
   "metadata": {
    "collapsed": true
   },
   "outputs": [],
   "source": [
    "# dummy phone, city, luxary\n",
    "master_set_round1 = pd.concat([master_set_round1, pd.get_dummies(master_set_round1['phone'])], axis=1)\n",
    "master_set_round1 = pd.concat([master_set_round1, pd.get_dummies(master_set_round1['city'])], axis=1)\n",
    "master_set_round1['luxury_car_user'] = master_set_round1['luxury_car_user'].map({True: 1, False: 0})\n",
    "#master_set_round1 = pd.concat([master_set_round1, pd.get_dummies(master_set_round1['luxury_car_user'])], axis=1)\n",
    "master_set_round1.drop(['phone','city'], axis=1, inplace=True)"
   ]
  },
  {
   "cell_type": "code",
   "execution_count": 140,
   "metadata": {},
   "outputs": [
    {
     "data": {
      "text/html": [
       "<div>\n",
       "<style scoped>\n",
       "    .dataframe tbody tr th:only-of-type {\n",
       "        vertical-align: middle;\n",
       "    }\n",
       "\n",
       "    .dataframe tbody tr th {\n",
       "        vertical-align: top;\n",
       "    }\n",
       "\n",
       "    .dataframe thead th {\n",
       "        text-align: right;\n",
       "    }\n",
       "</style>\n",
       "<table border=\"1\" class=\"dataframe\">\n",
       "  <thead>\n",
       "    <tr style=\"text-align: right;\">\n",
       "      <th></th>\n",
       "      <th>avg_dist</th>\n",
       "      <th>churn</th>\n",
       "      <th>luxury_car_user</th>\n",
       "      <th>member_duration</th>\n",
       "      <th>surge_pct</th>\n",
       "      <th>trips_in_first_30_days</th>\n",
       "      <th>6954</th>\n",
       "      <th>27628</th>\n",
       "      <th>Android</th>\n",
       "      <th>iPhone</th>\n",
       "      <th>Astapor</th>\n",
       "      <th>King's Landing</th>\n",
       "      <th>Winterfell</th>\n",
       "    </tr>\n",
       "  </thead>\n",
       "  <tbody>\n",
       "    <tr>\n",
       "      <th>0</th>\n",
       "      <td>6.94</td>\n",
       "      <td>True</td>\n",
       "      <td>0</td>\n",
       "      <td>170</td>\n",
       "      <td>0.0</td>\n",
       "      <td>0</td>\n",
       "      <td>0</td>\n",
       "      <td>0</td>\n",
       "      <td>1</td>\n",
       "      <td>0</td>\n",
       "      <td>1</td>\n",
       "      <td>0</td>\n",
       "      <td>0</td>\n",
       "    </tr>\n",
       "    <tr>\n",
       "      <th>1</th>\n",
       "      <td>8.06</td>\n",
       "      <td>True</td>\n",
       "      <td>1</td>\n",
       "      <td>157</td>\n",
       "      <td>0.0</td>\n",
       "      <td>2</td>\n",
       "      <td>0</td>\n",
       "      <td>0</td>\n",
       "      <td>1</td>\n",
       "      <td>0</td>\n",
       "      <td>1</td>\n",
       "      <td>0</td>\n",
       "      <td>0</td>\n",
       "    </tr>\n",
       "    <tr>\n",
       "      <th>2</th>\n",
       "      <td>21.50</td>\n",
       "      <td>True</td>\n",
       "      <td>1</td>\n",
       "      <td>180</td>\n",
       "      <td>0.0</td>\n",
       "      <td>1</td>\n",
       "      <td>0</td>\n",
       "      <td>0</td>\n",
       "      <td>0</td>\n",
       "      <td>1</td>\n",
       "      <td>0</td>\n",
       "      <td>0</td>\n",
       "      <td>1</td>\n",
       "    </tr>\n",
       "    <tr>\n",
       "      <th>3</th>\n",
       "      <td>9.46</td>\n",
       "      <td>True</td>\n",
       "      <td>0</td>\n",
       "      <td>173</td>\n",
       "      <td>100.0</td>\n",
       "      <td>1</td>\n",
       "      <td>0</td>\n",
       "      <td>0</td>\n",
       "      <td>1</td>\n",
       "      <td>0</td>\n",
       "      <td>0</td>\n",
       "      <td>0</td>\n",
       "      <td>1</td>\n",
       "    </tr>\n",
       "    <tr>\n",
       "      <th>4</th>\n",
       "      <td>13.77</td>\n",
       "      <td>True</td>\n",
       "      <td>0</td>\n",
       "      <td>151</td>\n",
       "      <td>0.0</td>\n",
       "      <td>0</td>\n",
       "      <td>0</td>\n",
       "      <td>0</td>\n",
       "      <td>0</td>\n",
       "      <td>1</td>\n",
       "      <td>0</td>\n",
       "      <td>0</td>\n",
       "      <td>1</td>\n",
       "    </tr>\n",
       "  </tbody>\n",
       "</table>\n",
       "</div>"
      ],
      "text/plain": [
       "   avg_dist churn  luxury_car_user  member_duration  surge_pct  \\\n",
       "0      6.94  True                0              170        0.0   \n",
       "1      8.06  True                1              157        0.0   \n",
       "2     21.50  True                1              180        0.0   \n",
       "3      9.46  True                0              173      100.0   \n",
       "4     13.77  True                0              151        0.0   \n",
       "\n",
       "   trips_in_first_30_days  6954  27628  Android  iPhone  Astapor  \\\n",
       "0                       0     0      0        1       0        1   \n",
       "1                       2     0      0        1       0        1   \n",
       "2                       1     0      0        0       1        0   \n",
       "3                       1     0      0        1       0        0   \n",
       "4                       0     0      0        0       1        0   \n",
       "\n",
       "   King's Landing  Winterfell  \n",
       "0               0           0  \n",
       "1               0           0  \n",
       "2               0           1  \n",
       "3               0           1  \n",
       "4               0           1  "
      ]
     },
     "execution_count": 140,
     "metadata": {},
     "output_type": "execute_result"
    }
   ],
   "source": [
    "master_set_round1.head()"
   ]
  },
  {
   "cell_type": "code",
   "execution_count": 120,
   "metadata": {},
   "outputs": [
    {
     "name": "stderr",
     "output_type": "stream",
     "text": [
      "/Users/ziru/anaconda/envs/py3/lib/python3.6/site-packages/ipykernel_launcher.py:3: SettingWithCopyWarning: \n",
      "A value is trying to be set on a copy of a slice from a DataFrame\n",
      "\n",
      "See the caveats in the documentation: http://pandas.pydata.org/pandas-docs/stable/indexing.html#indexing-view-versus-copy\n",
      "  This is separate from the ipykernel package so we can avoid doing imports until\n"
     ]
    }
   ],
   "source": [
    "df_train_round1_new = master_set_round1[:train_len]\n",
    "df_test_round1_new = master_set_round1[train_len:]\n",
    "df_test_round1_new.drop('churn', axis=1, inplace=True)"
   ]
  },
  {
   "cell_type": "code",
   "execution_count": 121,
   "metadata": {},
   "outputs": [
    {
     "data": {
      "text/html": [
       "<div>\n",
       "<style scoped>\n",
       "    .dataframe tbody tr th:only-of-type {\n",
       "        vertical-align: middle;\n",
       "    }\n",
       "\n",
       "    .dataframe tbody tr th {\n",
       "        vertical-align: top;\n",
       "    }\n",
       "\n",
       "    .dataframe thead th {\n",
       "        text-align: right;\n",
       "    }\n",
       "</style>\n",
       "<table border=\"1\" class=\"dataframe\">\n",
       "  <thead>\n",
       "    <tr style=\"text-align: right;\">\n",
       "      <th></th>\n",
       "      <th>avg_dist</th>\n",
       "      <th>churn</th>\n",
       "      <th>luxury_car_user</th>\n",
       "      <th>member_duration</th>\n",
       "      <th>surge_pct</th>\n",
       "      <th>trips_in_first_30_days</th>\n",
       "      <th>6954</th>\n",
       "      <th>27628</th>\n",
       "      <th>Android</th>\n",
       "      <th>iPhone</th>\n",
       "      <th>Astapor</th>\n",
       "      <th>King's Landing</th>\n",
       "      <th>Winterfell</th>\n",
       "    </tr>\n",
       "  </thead>\n",
       "  <tbody>\n",
       "    <tr>\n",
       "      <th>0</th>\n",
       "      <td>6.94</td>\n",
       "      <td>True</td>\n",
       "      <td>0</td>\n",
       "      <td>170</td>\n",
       "      <td>0.0</td>\n",
       "      <td>0</td>\n",
       "      <td>0</td>\n",
       "      <td>0</td>\n",
       "      <td>1</td>\n",
       "      <td>0</td>\n",
       "      <td>1</td>\n",
       "      <td>0</td>\n",
       "      <td>0</td>\n",
       "    </tr>\n",
       "    <tr>\n",
       "      <th>1</th>\n",
       "      <td>8.06</td>\n",
       "      <td>True</td>\n",
       "      <td>1</td>\n",
       "      <td>157</td>\n",
       "      <td>0.0</td>\n",
       "      <td>2</td>\n",
       "      <td>0</td>\n",
       "      <td>0</td>\n",
       "      <td>1</td>\n",
       "      <td>0</td>\n",
       "      <td>1</td>\n",
       "      <td>0</td>\n",
       "      <td>0</td>\n",
       "    </tr>\n",
       "    <tr>\n",
       "      <th>2</th>\n",
       "      <td>21.50</td>\n",
       "      <td>True</td>\n",
       "      <td>1</td>\n",
       "      <td>180</td>\n",
       "      <td>0.0</td>\n",
       "      <td>1</td>\n",
       "      <td>0</td>\n",
       "      <td>0</td>\n",
       "      <td>0</td>\n",
       "      <td>1</td>\n",
       "      <td>0</td>\n",
       "      <td>0</td>\n",
       "      <td>1</td>\n",
       "    </tr>\n",
       "    <tr>\n",
       "      <th>3</th>\n",
       "      <td>9.46</td>\n",
       "      <td>True</td>\n",
       "      <td>0</td>\n",
       "      <td>173</td>\n",
       "      <td>100.0</td>\n",
       "      <td>1</td>\n",
       "      <td>0</td>\n",
       "      <td>0</td>\n",
       "      <td>1</td>\n",
       "      <td>0</td>\n",
       "      <td>0</td>\n",
       "      <td>0</td>\n",
       "      <td>1</td>\n",
       "    </tr>\n",
       "    <tr>\n",
       "      <th>4</th>\n",
       "      <td>13.77</td>\n",
       "      <td>True</td>\n",
       "      <td>0</td>\n",
       "      <td>151</td>\n",
       "      <td>0.0</td>\n",
       "      <td>0</td>\n",
       "      <td>0</td>\n",
       "      <td>0</td>\n",
       "      <td>0</td>\n",
       "      <td>1</td>\n",
       "      <td>0</td>\n",
       "      <td>0</td>\n",
       "      <td>1</td>\n",
       "    </tr>\n",
       "  </tbody>\n",
       "</table>\n",
       "</div>"
      ],
      "text/plain": [
       "   avg_dist churn  luxury_car_user  member_duration  surge_pct  \\\n",
       "0      6.94  True                0              170        0.0   \n",
       "1      8.06  True                1              157        0.0   \n",
       "2     21.50  True                1              180        0.0   \n",
       "3      9.46  True                0              173      100.0   \n",
       "4     13.77  True                0              151        0.0   \n",
       "\n",
       "   trips_in_first_30_days  6954  27628  Android  iPhone  Astapor  \\\n",
       "0                       0     0      0        1       0        1   \n",
       "1                       2     0      0        1       0        1   \n",
       "2                       1     0      0        0       1        0   \n",
       "3                       1     0      0        1       0        0   \n",
       "4                       0     0      0        0       1        0   \n",
       "\n",
       "   King's Landing  Winterfell  \n",
       "0               0           0  \n",
       "1               0           0  \n",
       "2               0           1  \n",
       "3               0           1  \n",
       "4               0           1  "
      ]
     },
     "execution_count": 121,
     "metadata": {},
     "output_type": "execute_result"
    }
   ],
   "source": [
    "df_train_round1_new.head()"
   ]
  },
  {
   "cell_type": "code",
   "execution_count": 122,
   "metadata": {},
   "outputs": [
    {
     "data": {
      "text/html": [
       "<div>\n",
       "<style scoped>\n",
       "    .dataframe tbody tr th:only-of-type {\n",
       "        vertical-align: middle;\n",
       "    }\n",
       "\n",
       "    .dataframe tbody tr th {\n",
       "        vertical-align: top;\n",
       "    }\n",
       "\n",
       "    .dataframe thead th {\n",
       "        text-align: right;\n",
       "    }\n",
       "</style>\n",
       "<table border=\"1\" class=\"dataframe\">\n",
       "  <thead>\n",
       "    <tr style=\"text-align: right;\">\n",
       "      <th></th>\n",
       "      <th>avg_dist</th>\n",
       "      <th>luxury_car_user</th>\n",
       "      <th>member_duration</th>\n",
       "      <th>surge_pct</th>\n",
       "      <th>trips_in_first_30_days</th>\n",
       "      <th>6954</th>\n",
       "      <th>27628</th>\n",
       "      <th>Android</th>\n",
       "      <th>iPhone</th>\n",
       "      <th>Astapor</th>\n",
       "      <th>King's Landing</th>\n",
       "      <th>Winterfell</th>\n",
       "    </tr>\n",
       "  </thead>\n",
       "  <tbody>\n",
       "    <tr>\n",
       "      <th>40000</th>\n",
       "      <td>2.48</td>\n",
       "      <td>1</td>\n",
       "      <td>176</td>\n",
       "      <td>0.0</td>\n",
       "      <td>2</td>\n",
       "      <td>0</td>\n",
       "      <td>0</td>\n",
       "      <td>1</td>\n",
       "      <td>0</td>\n",
       "      <td>0</td>\n",
       "      <td>0</td>\n",
       "      <td>1</td>\n",
       "    </tr>\n",
       "    <tr>\n",
       "      <th>40001</th>\n",
       "      <td>10.81</td>\n",
       "      <td>1</td>\n",
       "      <td>176</td>\n",
       "      <td>0.0</td>\n",
       "      <td>3</td>\n",
       "      <td>0</td>\n",
       "      <td>0</td>\n",
       "      <td>0</td>\n",
       "      <td>1</td>\n",
       "      <td>0</td>\n",
       "      <td>0</td>\n",
       "      <td>1</td>\n",
       "    </tr>\n",
       "    <tr>\n",
       "      <th>40002</th>\n",
       "      <td>12.95</td>\n",
       "      <td>1</td>\n",
       "      <td>163</td>\n",
       "      <td>0.0</td>\n",
       "      <td>1</td>\n",
       "      <td>0</td>\n",
       "      <td>0</td>\n",
       "      <td>1</td>\n",
       "      <td>0</td>\n",
       "      <td>1</td>\n",
       "      <td>0</td>\n",
       "      <td>0</td>\n",
       "    </tr>\n",
       "    <tr>\n",
       "      <th>40003</th>\n",
       "      <td>3.92</td>\n",
       "      <td>0</td>\n",
       "      <td>173</td>\n",
       "      <td>0.0</td>\n",
       "      <td>0</td>\n",
       "      <td>0</td>\n",
       "      <td>0</td>\n",
       "      <td>0</td>\n",
       "      <td>1</td>\n",
       "      <td>0</td>\n",
       "      <td>0</td>\n",
       "      <td>1</td>\n",
       "    </tr>\n",
       "    <tr>\n",
       "      <th>40004</th>\n",
       "      <td>1.46</td>\n",
       "      <td>0</td>\n",
       "      <td>175</td>\n",
       "      <td>0.0</td>\n",
       "      <td>2</td>\n",
       "      <td>0</td>\n",
       "      <td>0</td>\n",
       "      <td>0</td>\n",
       "      <td>1</td>\n",
       "      <td>1</td>\n",
       "      <td>0</td>\n",
       "      <td>0</td>\n",
       "    </tr>\n",
       "  </tbody>\n",
       "</table>\n",
       "</div>"
      ],
      "text/plain": [
       "       avg_dist  luxury_car_user  member_duration  surge_pct  \\\n",
       "40000      2.48                1              176        0.0   \n",
       "40001     10.81                1              176        0.0   \n",
       "40002     12.95                1              163        0.0   \n",
       "40003      3.92                0              173        0.0   \n",
       "40004      1.46                0              175        0.0   \n",
       "\n",
       "       trips_in_first_30_days  6954  27628  Android  iPhone  Astapor  \\\n",
       "40000                       2     0      0        1       0        0   \n",
       "40001                       3     0      0        0       1        0   \n",
       "40002                       1     0      0        1       0        1   \n",
       "40003                       0     0      0        0       1        0   \n",
       "40004                       2     0      0        0       1        1   \n",
       "\n",
       "       King's Landing  Winterfell  \n",
       "40000               0           1  \n",
       "40001               0           1  \n",
       "40002               0           0  \n",
       "40003               0           1  \n",
       "40004               0           0  "
      ]
     },
     "execution_count": 122,
     "metadata": {},
     "output_type": "execute_result"
    }
   ],
   "source": [
    "df_test_round1_new.head()"
   ]
  },
  {
   "cell_type": "code",
   "execution_count": 123,
   "metadata": {
    "collapsed": true
   },
   "outputs": [],
   "source": [
    "X_train_round1 = df_train_round1_new[df_train_round1_new.drop('churn', axis =1).columns]\n",
    "y_train_round1 = df_train_round1_new['churn'].map({True: 1, False: 0})"
   ]
  },
  {
   "cell_type": "code",
   "execution_count": 87,
   "metadata": {
    "collapsed": true
   },
   "outputs": [],
   "source": [
    "#from imblearn.over_sampling import RandomOverSampler\n",
    "#ros = RandomOverSampler()\n",
    "#X_resampled_round1, y_resampled_round1 = ros.fit_sample(X_train_round1, y_train_round1)"
   ]
  },
  {
   "cell_type": "markdown",
   "metadata": {},
   "source": [
    "**Grid Search for RF modeling**"
   ]
  },
  {
   "cell_type": "code",
   "execution_count": 71,
   "metadata": {},
   "outputs": [
    {
     "name": "stdout",
     "output_type": "stream",
     "text": [
      "Fitting 3 folds for each of 72 candidates, totalling 216 fits\n"
     ]
    },
    {
     "name": "stderr",
     "output_type": "stream",
     "text": [
      "[Parallel(n_jobs=-1)]: Done  42 tasks      | elapsed:   29.2s\n",
      "[Parallel(n_jobs=-1)]: Done 192 tasks      | elapsed:  4.6min\n",
      "[Parallel(n_jobs=-1)]: Done 216 out of 216 | elapsed:  6.1min finished\n"
     ]
    },
    {
     "name": "stdout",
     "output_type": "stream",
     "text": [
      "best parameters: {'bootstrap': True, 'max_depth': None, 'max_features': 'sqrt', 'min_samples_leaf': 4, 'min_samples_split': 2, 'n_estimators': 100, 'random_state': 1}\n"
     ]
    }
   ],
   "source": [
    "## Grid Search CV for Random Forest\n",
    "\n",
    "random_forest_grid = {'max_depth': [3, None],\n",
    "                      'max_features': ['sqrt', 'log2', None],\n",
    "                      'min_samples_split': [2, 4],\n",
    "                      'min_samples_leaf': [1, 2, 4],\n",
    "                      'bootstrap': [True, False],\n",
    "                      'n_estimators': [100],\n",
    "                      'random_state': [1]}\n",
    "rf_gridsearch = GridSearchCV(RandomForestClassifier(),\n",
    "                             random_forest_grid,\n",
    "                             n_jobs=-1,\n",
    "                             verbose=True,\n",
    "                             scoring='roc_auc')\n",
    "rf_gridsearch.fit(X_train_round1, y_train_round1)\n",
    "\n",
    "print (\"best parameters:\", rf_gridsearch.best_params_)\n",
    "\n",
    "best_rf_model = rf_gridsearch.best_estimator_\n"
   ]
  },
  {
   "cell_type": "code",
   "execution_count": 75,
   "metadata": {},
   "outputs": [
    {
     "data": {
      "text/plain": [
       "0.80514313893721123"
      ]
     },
     "execution_count": 75,
     "metadata": {},
     "output_type": "execute_result"
    }
   ],
   "source": [
    "cross_val_score(best_rf_model, X_train_round1, y_train_round1, cv = 11, scoring = 'roc_auc').mean()"
   ]
  },
  {
   "cell_type": "code",
   "execution_count": 63,
   "metadata": {},
   "outputs": [
    {
     "data": {
      "text/plain": [
       "12"
      ]
     },
     "execution_count": 63,
     "metadata": {},
     "output_type": "execute_result"
    }
   ],
   "source": [
    "len(X_train_round1.columns)"
   ]
  },
  {
   "cell_type": "markdown",
   "metadata": {},
   "source": [
    "### Plot feature importance according to RF model"
   ]
  },
  {
   "cell_type": "code",
   "execution_count": 76,
   "metadata": {},
   "outputs": [
    {
     "name": "stdout",
     "output_type": "stream",
     "text": [
      "[ 0.26703192  0.21550587  0.13208823  0.1156894   0.07775522  0.06069265\n",
      "  0.04415547  0.03753495  0.03217036  0.01664409  0.00073184  0.        ]\n"
     ]
    },
    {
     "data": {
      "text/plain": [
       "(-1, 10)"
      ]
     },
     "execution_count": 76,
     "metadata": {},
     "output_type": "execute_result"
    },
    {
     "data": {
      "image/png": "[encoded data removed]",
      "text/plain": [
       "<matplotlib.figure.Figure at 0x10b6e9128>"
      ]
     },
     "metadata": {},
     "output_type": "display_data"
    }
   ],
   "source": [
    "importances = best_rf_model.feature_importances_\n",
    "indices = np.argsort(importances)[::-1]\n",
    "feature_names = list(X_train_round1.columns[indices])\n",
    "print (importances[indices])\n",
    "plt.figure(figsize=(20,5))\n",
    "plt.title(\"Feature importances\")\n",
    "plt.bar(range(12), importances[indices], color=\"r\", align=\"center\")\n",
    "plt.xticks(range(12), feature_names)\n",
    "plt.xlim([-1, 10])\n"
   ]
  },
  {
   "cell_type": "markdown",
   "metadata": {},
   "source": [
    "**Gradient Boosting Classifier modeling**"
   ]
  },
  {
   "cell_type": "code",
   "execution_count": 124,
   "metadata": {},
   "outputs": [
    {
     "ename": "JoblibValueError",
     "evalue": "JoblibValueError\n___________________________________________________________________________\nMultiprocessing exception:\n...........................................................................\n/Users/ziru/anaconda/envs/py3/lib/python3.6/runpy.py in _run_module_as_main(mod_name='ipykernel_launcher', alter_argv=1)\n    188         sys.exit(msg)\n    189     main_globals = sys.modules[\"__main__\"].__dict__\n    190     if alter_argv:\n    191         sys.argv[0] = mod_spec.origin\n    192     return _run_code(code, main_globals, None,\n--> 193                      \"__main__\", mod_spec)\n        mod_spec = ModuleSpec(name='ipykernel_launcher', loader=<_f...b/python3.6/site-packages/ipykernel_launcher.py')\n    194 \n    195 def run_module(mod_name, init_globals=None,\n    196                run_name=None, alter_sys=False):\n    197     \"\"\"Execute a module's code without importing it\n\n...........................................................................\n/Users/ziru/anaconda/envs/py3/lib/python3.6/runpy.py in _run_code(code=<code object <module> at 0x10a061660, file \"/Use...3.6/site-packages/ipykernel_launcher.py\", line 5>, run_globals={'__annotations__': {}, '__builtins__': <module 'builtins' (built-in)>, '__cached__': '/Users/ziru/anaconda/envs/py3/lib/python3.6/site...ges/__pycache__/ipykernel_launcher.cpython-36.pyc', '__doc__': 'Entry point for launching an IPython kernel.\\n\\nTh...orts until\\nafter removing the cwd from sys.path.\\n', '__file__': '/Users/ziru/anaconda/envs/py3/lib/python3.6/site-packages/ipykernel_launcher.py', '__loader__': <_frozen_importlib_external.SourceFileLoader object>, '__name__': '__main__', '__package__': '', '__spec__': ModuleSpec(name='ipykernel_launcher', loader=<_f...b/python3.6/site-packages/ipykernel_launcher.py'), 'app': <module 'ipykernel.kernelapp' from '/Users/ziru/.../python3.6/site-packages/ipykernel/kernelapp.py'>, ...}, init_globals=None, mod_name='__main__', mod_spec=ModuleSpec(name='ipykernel_launcher', loader=<_f...b/python3.6/site-packages/ipykernel_launcher.py'), pkg_name='', script_name=None)\n     80                        __cached__ = cached,\n     81                        __doc__ = None,\n     82                        __loader__ = loader,\n     83                        __package__ = pkg_name,\n     84                        __spec__ = mod_spec)\n---> 85     exec(code, run_globals)\n        code = <code object <module> at 0x10a061660, file \"/Use...3.6/site-packages/ipykernel_launcher.py\", line 5>\n        run_globals = {'__annotations__': {}, '__builtins__': <module 'builtins' (built-in)>, '__cached__': '/Users/ziru/anaconda/envs/py3/lib/python3.6/site...ges/__pycache__/ipykernel_launcher.cpython-36.pyc', '__doc__': 'Entry point for launching an IPython kernel.\\n\\nTh...orts until\\nafter removing the cwd from sys.path.\\n', '__file__': '/Users/ziru/anaconda/envs/py3/lib/python3.6/site-packages/ipykernel_launcher.py', '__loader__': <_frozen_importlib_external.SourceFileLoader object>, '__name__': '__main__', '__package__': '', '__spec__': ModuleSpec(name='ipykernel_launcher', loader=<_f...b/python3.6/site-packages/ipykernel_launcher.py'), 'app': <module 'ipykernel.kernelapp' from '/Users/ziru/.../python3.6/site-packages/ipykernel/kernelapp.py'>, ...}\n     86     return run_globals\n     87 \n     88 def _run_module_code(code, init_globals=None,\n     89                     mod_name=None, mod_spec=None,\n\n...........................................................................\n/Users/ziru/anaconda/envs/py3/lib/python3.6/site-packages/ipykernel_launcher.py in <module>()\n     11     # This is added back by InteractiveShellApp.init_path()\n     12     if sys.path[0] == '':\n     13         del sys.path[0]\n     14 \n     15     from ipykernel import kernelapp as app\n---> 16     app.launch_new_instance()\n\n...........................................................................\n/Users/ziru/anaconda/envs/py3/lib/python3.6/site-packages/traitlets/config/application.py in launch_instance(cls=<class 'ipykernel.kernelapp.IPKernelApp'>, argv=None, **kwargs={})\n    653 \n    654         If a global instance already exists, this reinitializes and starts it\n    655         \"\"\"\n    656         app = cls.instance(**kwargs)\n    657         app.initialize(argv)\n--> 658         app.start()\n        app.start = <bound method IPKernelApp.start of <ipykernel.kernelapp.IPKernelApp object>>\n    659 \n    660 #-----------------------------------------------------------------------------\n    661 # utility functions, for convenience\n    662 #-----------------------------------------------------------------------------\n\n...........................................................................\n/Users/ziru/anaconda/envs/py3/lib/python3.6/site-packages/ipykernel/kernelapp.py in start(self=<ipykernel.kernelapp.IPKernelApp object>)\n    472             return self.subapp.start()\n    473         if self.poller is not None:\n    474             self.poller.start()\n    475         self.kernel.start()\n    476         try:\n--> 477             ioloop.IOLoop.instance().start()\n    478         except KeyboardInterrupt:\n    479             pass\n    480 \n    481 launch_new_instance = IPKernelApp.launch_instance\n\n...........................................................................\n/Users/ziru/anaconda/envs/py3/lib/python3.6/site-packages/zmq/eventloop/ioloop.py in start(self=<zmq.eventloop.ioloop.ZMQIOLoop object>)\n    172             )\n    173         return loop\n    174     \n    175     def start(self):\n    176         try:\n--> 177             super(ZMQIOLoop, self).start()\n        self.start = <bound method ZMQIOLoop.start of <zmq.eventloop.ioloop.ZMQIOLoop object>>\n    178         except ZMQError as e:\n    179             if e.errno == ETERM:\n    180                 # quietly return on ETERM\n    181                 pass\n\n...........................................................................\n/Users/ziru/anaconda/envs/py3/lib/python3.6/site-packages/tornado/ioloop.py in start(self=<zmq.eventloop.ioloop.ZMQIOLoop object>)\n    883                 self._events.update(event_pairs)\n    884                 while self._events:\n    885                     fd, events = self._events.popitem()\n    886                     try:\n    887                         fd_obj, handler_func = self._handlers[fd]\n--> 888                         handler_func(fd_obj, events)\n        handler_func = <function wrap.<locals>.null_wrapper>\n        fd_obj = <zmq.sugar.socket.Socket object>\n        events = 1\n    889                     except (OSError, IOError) as e:\n    890                         if errno_from_exception(e) == errno.EPIPE:\n    891                             # Happens when the client closes the connection\n    892                             pass\n\n...........................................................................\n/Users/ziru/anaconda/envs/py3/lib/python3.6/site-packages/tornado/stack_context.py in null_wrapper(*args=(<zmq.sugar.socket.Socket object>, 1), **kwargs={})\n    272         # Fast path when there are no active contexts.\n    273         def null_wrapper(*args, **kwargs):\n    274             try:\n    275                 current_state = _state.contexts\n    276                 _state.contexts = cap_contexts[0]\n--> 277                 return fn(*args, **kwargs)\n        args = (<zmq.sugar.socket.Socket object>, 1)\n        kwargs = {}\n    278             finally:\n    279                 _state.contexts = current_state\n    280         null_wrapper._wrapped = True\n    281         return null_wrapper\n\n...........................................................................\n/Users/ziru/anaconda/envs/py3/lib/python3.6/site-packages/zmq/eventloop/zmqstream.py in _handle_events(self=<zmq.eventloop.zmqstream.ZMQStream object>, fd=<zmq.sugar.socket.Socket object>, events=1)\n    435             # dispatch events:\n    436             if events & IOLoop.ERROR:\n    437                 gen_log.error(\"got POLLERR event on ZMQStream, which doesn't make sense\")\n    438                 return\n    439             if events & IOLoop.READ:\n--> 440                 self._handle_recv()\n        self._handle_recv = <bound method ZMQStream._handle_recv of <zmq.eventloop.zmqstream.ZMQStream object>>\n    441                 if not self.socket:\n    442                     return\n    443             if events & IOLoop.WRITE:\n    444                 self._handle_send()\n\n...........................................................................\n/Users/ziru/anaconda/envs/py3/lib/python3.6/site-packages/zmq/eventloop/zmqstream.py in _handle_recv(self=<zmq.eventloop.zmqstream.ZMQStream object>)\n    467                 gen_log.error(\"RECV Error: %s\"%zmq.strerror(e.errno))\n    468         else:\n    469             if self._recv_callback:\n    470                 callback = self._recv_callback\n    471                 # self._recv_callback = None\n--> 472                 self._run_callback(callback, msg)\n        self._run_callback = <bound method ZMQStream._run_callback of <zmq.eventloop.zmqstream.ZMQStream object>>\n        callback = <function wrap.<locals>.null_wrapper>\n        msg = [<zmq.sugar.frame.Frame object>, <zmq.sugar.frame.Frame object>, <zmq.sugar.frame.Frame object>, <zmq.sugar.frame.Frame object>, <zmq.sugar.frame.Frame object>, <zmq.sugar.frame.Frame object>, <zmq.sugar.frame.Frame object>]\n    473                 \n    474         # self.update_state()\n    475         \n    476 \n\n...........................................................................\n/Users/ziru/anaconda/envs/py3/lib/python3.6/site-packages/zmq/eventloop/zmqstream.py in _run_callback(self=<zmq.eventloop.zmqstream.ZMQStream object>, callback=<function wrap.<locals>.null_wrapper>, *args=([<zmq.sugar.frame.Frame object>, <zmq.sugar.frame.Frame object>, <zmq.sugar.frame.Frame object>, <zmq.sugar.frame.Frame object>, <zmq.sugar.frame.Frame object>, <zmq.sugar.frame.Frame object>, <zmq.sugar.frame.Frame object>],), **kwargs={})\n    409         close our socket.\"\"\"\n    410         try:\n    411             # Use a NullContext to ensure that all StackContexts are run\n    412             # inside our blanket exception handler rather than outside.\n    413             with stack_context.NullContext():\n--> 414                 callback(*args, **kwargs)\n        callback = <function wrap.<locals>.null_wrapper>\n        args = ([<zmq.sugar.frame.Frame object>, <zmq.sugar.frame.Frame object>, <zmq.sugar.frame.Frame object>, <zmq.sugar.frame.Frame object>, <zmq.sugar.frame.Frame object>, <zmq.sugar.frame.Frame object>, <zmq.sugar.frame.Frame object>],)\n        kwargs = {}\n    415         except:\n    416             gen_log.error(\"Uncaught exception, closing connection.\",\n    417                           exc_info=True)\n    418             # Close the socket on an uncaught exception from a user callback\n\n...........................................................................\n/Users/ziru/anaconda/envs/py3/lib/python3.6/site-packages/tornado/stack_context.py in null_wrapper(*args=([<zmq.sugar.frame.Frame object>, <zmq.sugar.frame.Frame object>, <zmq.sugar.frame.Frame object>, <zmq.sugar.frame.Frame object>, <zmq.sugar.frame.Frame object>, <zmq.sugar.frame.Frame object>, <zmq.sugar.frame.Frame object>],), **kwargs={})\n    272         # Fast path when there are no active contexts.\n    273         def null_wrapper(*args, **kwargs):\n    274             try:\n    275                 current_state = _state.contexts\n    276                 _state.contexts = cap_contexts[0]\n--> 277                 return fn(*args, **kwargs)\n        args = ([<zmq.sugar.frame.Frame object>, <zmq.sugar.frame.Frame object>, <zmq.sugar.frame.Frame object>, <zmq.sugar.frame.Frame object>, <zmq.sugar.frame.Frame object>, <zmq.sugar.frame.Frame object>, <zmq.sugar.frame.Frame object>],)\n        kwargs = {}\n    278             finally:\n    279                 _state.contexts = current_state\n    280         null_wrapper._wrapped = True\n    281         return null_wrapper\n\n...........................................................................\n/Users/ziru/anaconda/envs/py3/lib/python3.6/site-packages/ipykernel/kernelbase.py in dispatcher(msg=[<zmq.sugar.frame.Frame object>, <zmq.sugar.frame.Frame object>, <zmq.sugar.frame.Frame object>, <zmq.sugar.frame.Frame object>, <zmq.sugar.frame.Frame object>, <zmq.sugar.frame.Frame object>, <zmq.sugar.frame.Frame object>])\n    278         if self.control_stream:\n    279             self.control_stream.on_recv(self.dispatch_control, copy=False)\n    280 \n    281         def make_dispatcher(stream):\n    282             def dispatcher(msg):\n--> 283                 return self.dispatch_shell(stream, msg)\n        msg = [<zmq.sugar.frame.Frame object>, <zmq.sugar.frame.Frame object>, <zmq.sugar.frame.Frame object>, <zmq.sugar.frame.Frame object>, <zmq.sugar.frame.Frame object>, <zmq.sugar.frame.Frame object>, <zmq.sugar.frame.Frame object>]\n    284             return dispatcher\n    285 \n    286         for s in self.shell_streams:\n    287             s.on_recv(make_dispatcher(s), copy=False)\n\n...........................................................................\n/Users/ziru/anaconda/envs/py3/lib/python3.6/site-packages/ipykernel/kernelbase.py in dispatch_shell(self=<ipykernel.ipkernel.IPythonKernel object>, stream=<zmq.eventloop.zmqstream.ZMQStream object>, msg={'buffers': [], 'content': {'allow_stdin': True, 'code': '## Grid Search for GB Classification\\n\\ngradient_b...t_gbclf_model = gbclf_gridsearch.best_estimator_\\n', 'silent': False, 'stop_on_error': True, 'store_history': True, 'user_expressions': {}}, 'header': {'date': datetime.datetime(2017, 12, 1, 23, 34, 50, 98063, tzinfo=datetime.timezone.utc), 'msg_id': '369C4A4C11314BFFA84C5EC5469301B9', 'msg_type': 'execute_request', 'session': 'EF3CD025307D43388B75A6F169388B76', 'username': 'username', 'version': '5.0'}, 'metadata': {}, 'msg_id': '369C4A4C11314BFFA84C5EC5469301B9', 'msg_type': 'execute_request', 'parent_header': {}})\n    230             self.log.warn(\"Unknown message type: %r\", msg_type)\n    231         else:\n    232             self.log.debug(\"%s: %s\", msg_type, msg)\n    233             self.pre_handler_hook()\n    234             try:\n--> 235                 handler(stream, idents, msg)\n        handler = <bound method Kernel.execute_request of <ipykernel.ipkernel.IPythonKernel object>>\n        stream = <zmq.eventloop.zmqstream.ZMQStream object>\n        idents = [b'EF3CD025307D43388B75A6F169388B76']\n        msg = {'buffers': [], 'content': {'allow_stdin': True, 'code': '## Grid Search for GB Classification\\n\\ngradient_b...t_gbclf_model = gbclf_gridsearch.best_estimator_\\n', 'silent': False, 'stop_on_error': True, 'store_history': True, 'user_expressions': {}}, 'header': {'date': datetime.datetime(2017, 12, 1, 23, 34, 50, 98063, tzinfo=datetime.timezone.utc), 'msg_id': '369C4A4C11314BFFA84C5EC5469301B9', 'msg_type': 'execute_request', 'session': 'EF3CD025307D43388B75A6F169388B76', 'username': 'username', 'version': '5.0'}, 'metadata': {}, 'msg_id': '369C4A4C11314BFFA84C5EC5469301B9', 'msg_type': 'execute_request', 'parent_header': {}}\n    236             except Exception:\n    237                 self.log.error(\"Exception in message handler:\", exc_info=True)\n    238             finally:\n    239                 self.post_handler_hook()\n\n...........................................................................\n/Users/ziru/anaconda/envs/py3/lib/python3.6/site-packages/ipykernel/kernelbase.py in execute_request(self=<ipykernel.ipkernel.IPythonKernel object>, stream=<zmq.eventloop.zmqstream.ZMQStream object>, ident=[b'EF3CD025307D43388B75A6F169388B76'], parent={'buffers': [], 'content': {'allow_stdin': True, 'code': '## Grid Search for GB Classification\\n\\ngradient_b...t_gbclf_model = gbclf_gridsearch.best_estimator_\\n', 'silent': False, 'stop_on_error': True, 'store_history': True, 'user_expressions': {}}, 'header': {'date': datetime.datetime(2017, 12, 1, 23, 34, 50, 98063, tzinfo=datetime.timezone.utc), 'msg_id': '369C4A4C11314BFFA84C5EC5469301B9', 'msg_type': 'execute_request', 'session': 'EF3CD025307D43388B75A6F169388B76', 'username': 'username', 'version': '5.0'}, 'metadata': {}, 'msg_id': '369C4A4C11314BFFA84C5EC5469301B9', 'msg_type': 'execute_request', 'parent_header': {}})\n    394         if not silent:\n    395             self.execution_count += 1\n    396             self._publish_execute_input(code, parent, self.execution_count)\n    397 \n    398         reply_content = self.do_execute(code, silent, store_history,\n--> 399                                         user_expressions, allow_stdin)\n        user_expressions = {}\n        allow_stdin = True\n    400 \n    401         # Flush output before sending the reply.\n    402         sys.stdout.flush()\n    403         sys.stderr.flush()\n\n...........................................................................\n/Users/ziru/anaconda/envs/py3/lib/python3.6/site-packages/ipykernel/ipkernel.py in do_execute(self=<ipykernel.ipkernel.IPythonKernel object>, code='## Grid Search for GB Classification\\n\\ngradient_b...t_gbclf_model = gbclf_gridsearch.best_estimator_\\n', silent=False, store_history=True, user_expressions={}, allow_stdin=True)\n    191 \n    192         self._forward_input(allow_stdin)\n    193 \n    194         reply_content = {}\n    195         try:\n--> 196             res = shell.run_cell(code, store_history=store_history, silent=silent)\n        res = undefined\n        shell.run_cell = <bound method ZMQInteractiveShell.run_cell of <ipykernel.zmqshell.ZMQInteractiveShell object>>\n        code = '## Grid Search for GB Classification\\n\\ngradient_b...t_gbclf_model = gbclf_gridsearch.best_estimator_\\n'\n        store_history = True\n        silent = False\n    197         finally:\n    198             self._restore_input()\n    199 \n    200         if res.error_before_exec is not None:\n\n...........................................................................\n/Users/ziru/anaconda/envs/py3/lib/python3.6/site-packages/ipykernel/zmqshell.py in run_cell(self=<ipykernel.zmqshell.ZMQInteractiveShell object>, *args=('## Grid Search for GB Classification\\n\\ngradient_b...t_gbclf_model = gbclf_gridsearch.best_estimator_\\n',), **kwargs={'silent': False, 'store_history': True})\n    528             )\n    529         self.payload_manager.write_payload(payload)\n    530 \n    531     def run_cell(self, *args, **kwargs):\n    532         self._last_traceback = None\n--> 533         return super(ZMQInteractiveShell, self).run_cell(*args, **kwargs)\n        self.run_cell = <bound method ZMQInteractiveShell.run_cell of <ipykernel.zmqshell.ZMQInteractiveShell object>>\n        args = ('## Grid Search for GB Classification\\n\\ngradient_b...t_gbclf_model = gbclf_gridsearch.best_estimator_\\n',)\n        kwargs = {'silent': False, 'store_history': True}\n    534 \n    535     def _showtraceback(self, etype, evalue, stb):\n    536         # try to preserve ordering of tracebacks and print statements\n    537         sys.stdout.flush()\n\n...........................................................................\n/Users/ziru/anaconda/envs/py3/lib/python3.6/site-packages/IPython/core/interactiveshell.py in run_cell(self=<ipykernel.zmqshell.ZMQInteractiveShell object>, raw_cell='## Grid Search for GB Classification\\n\\ngradient_b...t_gbclf_model = gbclf_gridsearch.best_estimator_\\n', store_history=True, silent=False, shell_futures=True)\n   2712                 self.displayhook.exec_result = result\n   2713 \n   2714                 # Execute the user code\n   2715                 interactivity = \"none\" if silent else self.ast_node_interactivity\n   2716                 has_raised = self.run_ast_nodes(code_ast.body, cell_name,\n-> 2717                    interactivity=interactivity, compiler=compiler, result=result)\n        interactivity = 'last_expr'\n        compiler = <IPython.core.compilerop.CachingCompiler object>\n   2718                 \n   2719                 self.last_execution_succeeded = not has_raised\n   2720 \n   2721                 # Reset this so later displayed values do not modify the\n\n...........................................................................\n/Users/ziru/anaconda/envs/py3/lib/python3.6/site-packages/IPython/core/interactiveshell.py in run_ast_nodes(self=<ipykernel.zmqshell.ZMQInteractiveShell object>, nodelist=[<_ast.Assign object>, <_ast.Assign object>, <_ast.Expr object>, <_ast.Expr object>, <_ast.Assign object>], cell_name='<ipython-input-124-42bc4c340b1a>', interactivity='none', compiler=<IPython.core.compilerop.CachingCompiler object>, result=<ExecutionResult object at 1123a2f60, execution_..._before_exec=None error_in_exec=None result=None>)\n   2816 \n   2817         try:\n   2818             for i, node in enumerate(to_run_exec):\n   2819                 mod = ast.Module([node])\n   2820                 code = compiler(mod, cell_name, \"exec\")\n-> 2821                 if self.run_code(code, result):\n        self.run_code = <bound method InteractiveShell.run_code of <ipykernel.zmqshell.ZMQInteractiveShell object>>\n        code = <code object <module> at 0x1a49447300, file \"<ipython-input-124-42bc4c340b1a>\", line 14>\n        result = <ExecutionResult object at 1123a2f60, execution_..._before_exec=None error_in_exec=None result=None>\n   2822                     return True\n   2823 \n   2824             for i, node in enumerate(to_run_interactive):\n   2825                 mod = ast.Interactive([node])\n\n...........................................................................\n/Users/ziru/anaconda/envs/py3/lib/python3.6/site-packages/IPython/core/interactiveshell.py in run_code(self=<ipykernel.zmqshell.ZMQInteractiveShell object>, code_obj=<code object <module> at 0x1a49447300, file \"<ipython-input-124-42bc4c340b1a>\", line 14>, result=<ExecutionResult object at 1123a2f60, execution_..._before_exec=None error_in_exec=None result=None>)\n   2876         outflag = 1  # happens in more places, so it's easier as default\n   2877         try:\n   2878             try:\n   2879                 self.hooks.pre_run_code_hook()\n   2880                 #rprint('Running code', repr(code_obj)) # dbg\n-> 2881                 exec(code_obj, self.user_global_ns, self.user_ns)\n        code_obj = <code object <module> at 0x1a49447300, file \"<ipython-input-124-42bc4c340b1a>\", line 14>\n        self.user_global_ns = {'GradientBoostingClassifier': <class 'sklearn.ensemble.gradient_boosting.GradientBoostingClassifier'>, 'GradientBoostingRegressor': <class 'sklearn.ensemble.gradient_boosting.GradientBoostingRegressor'>, 'GridSearchCV': <class 'sklearn.model_selection._search.GridSearchCV'>, 'In': ['', 'import sys\\nsys.path.pop(0)', \"import matplotlib.pyplot as plt\\nimport pandas as...earchCV\\n\\nget_ipython().magic('matplotlib inline')\", \"df_train_orig = pd.read_csv('data/churn_train.cs...train_orig)\\ndf_test = brutal_fillna(df_test_orig)\", 'df_train.head()', 'df_test.head()', \"train_feature_round1 = ['churn','member_duration...car_user', 'trips_in_first_30_days', 'surge_pct']\", 'df_train_round1 = df_train[train_feature_round1]\\ndf_test_round1 = df_test[test_feature_round1]', 'train_len = len(df_train)\\nmaster_set_round1 =  p..., df_test_round1], axis=0).reset_index(drop=True)', \"# dummy phone, city, luxary\\nmaster_set_round1 = ...und1.drop(['phone','city'], axis=1, inplace=True)\", 'master_set_round1.head()', \"df_train_round1_new = master_set_round1[:train_l...st_round1_new.drop('churn', axis=1, inplace=True)\", 'df_train_round1_new.head()', 'df_test_round1_new.head()', \"X_train_round1 = df_train_round1_new[df_train_ro...rain_round1_new['churn'].map({True: 1, False: 0})\", 'from imblearn.over_sampling import RandomOverSam... = ros.fit_sample(X_train_round1, y_train_round1)', '## Grid Search CV for Random Forest\\n\\nrandom_fore..._)\\n\\nbest_rf_model = rf_gridsearch.best_estimator_', \"cross_val_score(best_rf_model, X_resampled_round...pled_round1, cv = 11, scoring = 'roc_auc').mean()\", 'importances = best_rf_model.feature_importances_...ticks(range(9), feature_names)\\nplt.xlim([-1, 10])', 'importances = best_rf_model.feature_importances_...ticks(range(9), feature_names)\\nplt.xlim([-1, 10])', ...], 'Out': {1: '/Library/Python/2.7/site-packages', 4:    avg_dist  avg_rating_by_driver  avg_rating_of... \n4  False          2014-05-13               49  , 5:    avg_dist  avg_rating_by_driver  avg_rating_of...  153  \n3              135  \n4              173  , 10:    avg_dist  churn  luxury_car_user  member_dura...  0           1  \n4               0           1  , 12:    avg_dist  churn  luxury_car_user  member_dura...  0           1  \n4               0           1  , 13:        avg_dist  luxury_car_user  member_duratio...          1  \n40004               0           0  , 17: 1.0, 23: 12, 24: (-1, 10), 27: <matplotlib.figure.Figure object>, ...}, 'Pipeline': <class 'sklearn.pipeline.Pipeline'>, 'RandomForestClassifier': <class 'sklearn.ensemble.forest.RandomForestClassifier'>, 'RandomOverSampler': <class 'imblearn.over_sampling.random_over_sampler.RandomOverSampler'>, 'StandardScaler': <class 'sklearn.preprocessing.data.StandardScaler'>, 'X_resampled_round1': array([[   6.94,    0.  ,  170.  , ...,    1.  ,... 0.  ,  177.  , ...,    0.  ,    0.  ,    1.  ]]), ...}\n        self.user_ns = {'GradientBoostingClassifier': <class 'sklearn.ensemble.gradient_boosting.GradientBoostingClassifier'>, 'GradientBoostingRegressor': <class 'sklearn.ensemble.gradient_boosting.GradientBoostingRegressor'>, 'GridSearchCV': <class 'sklearn.model_selection._search.GridSearchCV'>, 'In': ['', 'import sys\\nsys.path.pop(0)', \"import matplotlib.pyplot as plt\\nimport pandas as...earchCV\\n\\nget_ipython().magic('matplotlib inline')\", \"df_train_orig = pd.read_csv('data/churn_train.cs...train_orig)\\ndf_test = brutal_fillna(df_test_orig)\", 'df_train.head()', 'df_test.head()', \"train_feature_round1 = ['churn','member_duration...car_user', 'trips_in_first_30_days', 'surge_pct']\", 'df_train_round1 = df_train[train_feature_round1]\\ndf_test_round1 = df_test[test_feature_round1]', 'train_len = len(df_train)\\nmaster_set_round1 =  p..., df_test_round1], axis=0).reset_index(drop=True)', \"# dummy phone, city, luxary\\nmaster_set_round1 = ...und1.drop(['phone','city'], axis=1, inplace=True)\", 'master_set_round1.head()', \"df_train_round1_new = master_set_round1[:train_l...st_round1_new.drop('churn', axis=1, inplace=True)\", 'df_train_round1_new.head()', 'df_test_round1_new.head()', \"X_train_round1 = df_train_round1_new[df_train_ro...rain_round1_new['churn'].map({True: 1, False: 0})\", 'from imblearn.over_sampling import RandomOverSam... = ros.fit_sample(X_train_round1, y_train_round1)', '## Grid Search CV for Random Forest\\n\\nrandom_fore..._)\\n\\nbest_rf_model = rf_gridsearch.best_estimator_', \"cross_val_score(best_rf_model, X_resampled_round...pled_round1, cv = 11, scoring = 'roc_auc').mean()\", 'importances = best_rf_model.feature_importances_...ticks(range(9), feature_names)\\nplt.xlim([-1, 10])', 'importances = best_rf_model.feature_importances_...ticks(range(9), feature_names)\\nplt.xlim([-1, 10])', ...], 'Out': {1: '/Library/Python/2.7/site-packages', 4:    avg_dist  avg_rating_by_driver  avg_rating_of... \n4  False          2014-05-13               49  , 5:    avg_dist  avg_rating_by_driver  avg_rating_of...  153  \n3              135  \n4              173  , 10:    avg_dist  churn  luxury_car_user  member_dura...  0           1  \n4               0           1  , 12:    avg_dist  churn  luxury_car_user  member_dura...  0           1  \n4               0           1  , 13:        avg_dist  luxury_car_user  member_duratio...          1  \n40004               0           0  , 17: 1.0, 23: 12, 24: (-1, 10), 27: <matplotlib.figure.Figure object>, ...}, 'Pipeline': <class 'sklearn.pipeline.Pipeline'>, 'RandomForestClassifier': <class 'sklearn.ensemble.forest.RandomForestClassifier'>, 'RandomOverSampler': <class 'imblearn.over_sampling.random_over_sampler.RandomOverSampler'>, 'StandardScaler': <class 'sklearn.preprocessing.data.StandardScaler'>, 'X_resampled_round1': array([[   6.94,    0.  ,  170.  , ...,    1.  ,... 0.  ,  177.  , ...,    0.  ,    0.  ,    1.  ]]), ...}\n   2882             finally:\n   2883                 # Reset our crash handler in place\n   2884                 sys.excepthook = old_excepthook\n   2885         except SystemExit as e:\n\n...........................................................................\n/Users/ziru/Galvanize/dsi-ml-case-study/<ipython-input-124-42bc4c340b1a> in <module>()\n      9                           'random_state': [1]}\n     10 gbclf_gridsearch = GridSearchCV(GradientBoostingClassifier(), \n     11                               gradient_boosting_grid,\n     12                               n_jobs=-1,\n     13                               scoring='roc_auc')\n---> 14 gbclf_gridsearch.fit(X_train_round1, y_train_round1)\n     15 print (\"best parameters:\", gbclf_gridsearch.best_params_)\n     16 \n     17 best_gbclf_model = gbclf_gridsearch.best_estimator_\n\n...........................................................................\n/Users/ziru/anaconda/envs/py3/lib/python3.6/site-packages/sklearn/model_selection/_search.py in fit(self=GridSearchCV(cv=None, error_score='raise',\n     ...core='warn',\n       scoring='roc_auc', verbose=0), X=       avg_dist  luxury_car_user  member_duratio...       0           0  \n\n[40000 rows x 12 columns], y=0        1\n1        1\n2        1\n3        1\n4   ...999    1\nName: churn, Length: 40000, dtype: int64, groups=None, **fit_params={})\n    634                                   return_train_score=self.return_train_score,\n    635                                   return_n_test_samples=True,\n    636                                   return_times=True, return_parameters=False,\n    637                                   error_score=self.error_score)\n    638           for parameters, (train, test) in product(candidate_params,\n--> 639                                                    cv.split(X, y, groups)))\n        cv.split = <bound method StratifiedKFold.split of Stratifie...ld(n_splits=3, random_state=None, shuffle=False)>\n        X =        avg_dist  luxury_car_user  member_duratio...       0           0  \n\n[40000 rows x 12 columns]\n        y = 0        1\n1        1\n2        1\n3        1\n4   ...999    1\nName: churn, Length: 40000, dtype: int64\n        groups = None\n    640 \n    641         # if one choose to see train score, \"out\" will contain train score info\n    642         if self.return_train_score:\n    643             (train_score_dicts, test_score_dicts, test_sample_counts, fit_time,\n\n...........................................................................\n/Users/ziru/anaconda/envs/py3/lib/python3.6/site-packages/sklearn/externals/joblib/parallel.py in __call__(self=Parallel(n_jobs=-1), iterable=<generator object BaseSearchCV.fit.<locals>.<genexpr>>)\n    784             if pre_dispatch == \"all\" or n_jobs == 1:\n    785                 # The iterable was consumed all at once by the above for loop.\n    786                 # No need to wait for async callbacks to trigger to\n    787                 # consumption.\n    788                 self._iterating = False\n--> 789             self.retrieve()\n        self.retrieve = <bound method Parallel.retrieve of Parallel(n_jobs=-1)>\n    790             # Make sure that we get a last message telling us we are done\n    791             elapsed_time = time.time() - self._start_time\n    792             self._print('Done %3i out of %3i | elapsed: %s finished',\n    793                         (len(self._output), len(self._output),\n\n---------------------------------------------------------------------------\nSub-process traceback:\n---------------------------------------------------------------------------\nValueError                                         Fri Dec  1 15:34:50 2017\nPID: 48225           Python 3.6.1: /Users/ziru/anaconda/envs/py3/bin/python\n...........................................................................\n/Users/ziru/anaconda/envs/py3/lib/python3.6/site-packages/sklearn/externals/joblib/parallel.py in __call__(self=<sklearn.externals.joblib.parallel.BatchedCalls object>)\n    126     def __init__(self, iterator_slice):\n    127         self.items = list(iterator_slice)\n    128         self._size = len(self.items)\n    129 \n    130     def __call__(self):\n--> 131         return [func(*args, **kwargs) for func, args, kwargs in self.items]\n        self.items = [(<function _fit_and_score>, (GradientBoostingClassifier(criterion='friedman_m...e=1.0, verbose=0,\n              warm_start=False),        avg_dist  luxury_car_user  member_duratio...       0           0  \n\n[40000 rows x 12 columns], 0        1\n1        1\n2        1\n3        1\n4   ...999    1\nName: churn, Length: 40000, dtype: int64, {'score': make_scorer(roc_auc_score, needs_threshold=True)}, array([13334, 13335, 13336, ..., 39997, 39998, 39999]), array([    0,     1,     2, ..., 13331, 13332, 13333]), 0, {'learning_rate': 0.1, 'loss': 'deviance', 'max_depth': 2, 'max_features': 1.0, 'min_samples_leaf': 1, 'n_estimators': 100, 'random_state': 1}), {'error_score': 'raise', 'fit_params': {}, 'return_n_test_samples': True, 'return_parameters': False, 'return_times': True, 'return_train_score': 'warn'})]\n    132 \n    133     def __len__(self):\n    134         return self._size\n    135 \n\n...........................................................................\n/Users/ziru/anaconda/envs/py3/lib/python3.6/site-packages/sklearn/externals/joblib/parallel.py in <listcomp>(.0=<list_iterator object>)\n    126     def __init__(self, iterator_slice):\n    127         self.items = list(iterator_slice)\n    128         self._size = len(self.items)\n    129 \n    130     def __call__(self):\n--> 131         return [func(*args, **kwargs) for func, args, kwargs in self.items]\n        func = <function _fit_and_score>\n        args = (GradientBoostingClassifier(criterion='friedman_m...e=1.0, verbose=0,\n              warm_start=False),        avg_dist  luxury_car_user  member_duratio...       0           0  \n\n[40000 rows x 12 columns], 0        1\n1        1\n2        1\n3        1\n4   ...999    1\nName: churn, Length: 40000, dtype: int64, {'score': make_scorer(roc_auc_score, needs_threshold=True)}, array([13334, 13335, 13336, ..., 39997, 39998, 39999]), array([    0,     1,     2, ..., 13331, 13332, 13333]), 0, {'learning_rate': 0.1, 'loss': 'deviance', 'max_depth': 2, 'max_features': 1.0, 'min_samples_leaf': 1, 'n_estimators': 100, 'random_state': 1})\n        kwargs = {'error_score': 'raise', 'fit_params': {}, 'return_n_test_samples': True, 'return_parameters': False, 'return_times': True, 'return_train_score': 'warn'}\n    132 \n    133     def __len__(self):\n    134         return self._size\n    135 \n\n...........................................................................\n/Users/ziru/anaconda/envs/py3/lib/python3.6/site-packages/sklearn/model_selection/_validation.py in _fit_and_score(estimator=GradientBoostingClassifier(criterion='friedman_m...e=1.0, verbose=0,\n              warm_start=False), X=       avg_dist  luxury_car_user  member_duratio...       0           0  \n\n[40000 rows x 12 columns], y=0        1\n1        1\n2        1\n3        1\n4   ...999    1\nName: churn, Length: 40000, dtype: int64, scorer={'score': make_scorer(roc_auc_score, needs_threshold=True)}, train=array([13334, 13335, 13336, ..., 39997, 39998, 39999]), test=array([    0,     1,     2, ..., 13331, 13332, 13333]), verbose=0, parameters={'learning_rate': 0.1, 'loss': 'deviance', 'max_depth': 2, 'max_features': 1.0, 'min_samples_leaf': 1, 'n_estimators': 100, 'random_state': 1}, fit_params={}, return_train_score='warn', return_parameters=False, return_n_test_samples=True, return_times=True, error_score='raise')\n    453 \n    454     try:\n    455         if y_train is None:\n    456             estimator.fit(X_train, **fit_params)\n    457         else:\n--> 458             estimator.fit(X_train, y_train, **fit_params)\n        estimator.fit = <bound method BaseGradientBoosting.fit of Gradie...=1.0, verbose=0,\n              warm_start=False)>\n        X_train =        avg_dist  luxury_car_user  member_duratio...       0           0  \n\n[26666 rows x 12 columns]\n        y_train = 13334    1\n13335    1\n13336    1\n13337    1\n1333...999    1\nName: churn, Length: 26666, dtype: int64\n        fit_params = {}\n    459 \n    460     except Exception as e:\n    461         # Note fit time as time until error\n    462         fit_time = time.time() - start_time\n\n...........................................................................\n/Users/ziru/anaconda/envs/py3/lib/python3.6/site-packages/sklearn/ensemble/gradient_boosting.py in fit(self=GradientBoostingClassifier(criterion='friedman_m...e=1.0, verbose=0,\n              warm_start=False), X=array([[  13.19999981,    0.        ,  163.     ...      0.        ,    0.        ]], dtype=float32), y=array([0, 0, 0, ..., 0, 0, 0]), sample_weight=array([ 1.,  1.,  1., ...,  1.,  1.,  1.], dtype=float32), monitor=None)\n    986         check_consistent_length(X, y, sample_weight)\n    987 \n    988         y = self._validate_y(y)\n    989 \n    990         random_state = check_random_state(self.random_state)\n--> 991         self._check_params()\n        self._check_params = <bound method BaseGradientBoosting._check_params...=1.0, verbose=0,\n              warm_start=False)>\n    992 \n    993         if not self._is_initialized():\n    994             # init state\n    995             self._init_state()\n\n...........................................................................\n/Users/ziru/anaconda/envs/py3/lib/python3.6/site-packages/sklearn/ensemble/gradient_boosting.py in _check_params(self=GradientBoostingClassifier(criterion='friedman_m...e=1.0, verbose=0,\n              warm_start=False))\n    824             loss_class = LOSS_FUNCTIONS[self.loss]\n    825 \n    826         if self.loss in ('huber', 'quantile'):\n    827             self.loss_ = loss_class(self.n_classes_, self.alpha)\n    828         else:\n--> 829             self.loss_ = loss_class(self.n_classes_)\n        self.loss_ = undefined\n        loss_class = <class 'sklearn.ensemble.gradient_boosting.BinomialDeviance'>\n        self.n_classes_ = 1\n    830 \n    831         if not (0.0 < self.subsample <= 1.0):\n    832             raise ValueError(\"subsample must be in (0,1] but \"\n    833                              \"was %r\" % self.subsample)\n\n...........................................................................\n/Users/ziru/anaconda/envs/py3/lib/python3.6/site-packages/sklearn/ensemble/gradient_boosting.py in __init__(self=<sklearn.ensemble.gradient_boosting.BinomialDeviance object>, n_classes=1)\n    467     fit one tree instead of ``n_classes`` trees.\n    468     \"\"\"\n    469     def __init__(self, n_classes):\n    470         if n_classes != 2:\n    471             raise ValueError(\"{0:s} requires 2 classes.\".format(\n--> 472                 self.__class__.__name__))\n        self.__class__.__name__ = 'BinomialDeviance'\n    473         # we only need to fit one tree for binary clf.\n    474         super(BinomialDeviance, self).__init__(1)\n    475 \n    476     def init_estimator(self):\n\nValueError: BinomialDeviance requires 2 classes.\n___________________________________________________________________________",
     "output_type": "error",
     "traceback": [
      "\u001b[0;31m---------------------------------------------------------------------------\u001b[0m",
      "\u001b[0;31mRemoteTraceback\u001b[0m                           Traceback (most recent call last)",
      "\u001b[0;31mRemoteTraceback\u001b[0m: \n\"\"\"\nTraceback (most recent call last):\n  File \"/Users/ziru/anaconda/envs/py3/lib/python3.6/site-packages/sklearn/externals/joblib/_parallel_backends.py\", line 350, in __call__\n    return self.func(*args, **kwargs)\n  File \"/Users/ziru/anaconda/envs/py3/lib/python3.6/site-packages/sklearn/externals/joblib/parallel.py\", line 131, in __call__\n    return [func(*args, **kwargs) for func, args, kwargs in self.items]\n  File \"/Users/ziru/anaconda/envs/py3/lib/python3.6/site-packages/sklearn/externals/joblib/parallel.py\", line 131, in <listcomp>\n    return [func(*args, **kwargs) for func, args, kwargs in self.items]\n  File \"/Users/ziru/anaconda/envs/py3/lib/python3.6/site-packages/sklearn/model_selection/_validation.py\", line 458, in _fit_and_score\n    estimator.fit(X_train, y_train, **fit_params)\n  File \"/Users/ziru/anaconda/envs/py3/lib/python3.6/site-packages/sklearn/ensemble/gradient_boosting.py\", line 991, in fit\n    self._check_params()\n  File \"/Users/ziru/anaconda/envs/py3/lib/python3.6/site-packages/sklearn/ensemble/gradient_boosting.py\", line 829, in _check_params\n    self.loss_ = loss_class(self.n_classes_)\n  File \"/Users/ziru/anaconda/envs/py3/lib/python3.6/site-packages/sklearn/ensemble/gradient_boosting.py\", line 472, in __init__\n    self.__class__.__name__))\nValueError: BinomialDeviance requires 2 classes.\n\nDuring handling of the above exception, another exception occurred:\n\nTraceback (most recent call last):\n  File \"/Users/ziru/anaconda/envs/py3/lib/python3.6/multiprocessing/pool.py\", line 119, in worker\n    result = (True, func(*args, **kwds))\n  File \"/Users/ziru/anaconda/envs/py3/lib/python3.6/site-packages/sklearn/externals/joblib/_parallel_backends.py\", line 359, in __call__\n    raise TransportableException(text, e_type)\nsklearn.externals.joblib.my_exceptions.TransportableException: TransportableException\n___________________________________________________________________________\nValueError                                         Fri Dec  1 15:34:50 2017\nPID: 48225           Python 3.6.1: /Users/ziru/anaconda/envs/py3/bin/python\n...........................................................................\n/Users/ziru/anaconda/envs/py3/lib/python3.6/site-packages/sklearn/externals/joblib/parallel.py in __call__(self=<sklearn.externals.joblib.parallel.BatchedCalls object>)\n    126     def __init__(self, iterator_slice):\n    127         self.items = list(iterator_slice)\n    128         self._size = len(self.items)\n    129 \n    130     def __call__(self):\n--> 131         return [func(*args, **kwargs) for func, args, kwargs in self.items]\n        self.items = [(<function _fit_and_score>, (GradientBoostingClassifier(criterion='friedman_m...e=1.0, verbose=0,\n              warm_start=False),        avg_dist  luxury_car_user  member_duratio...       0           0  \n\n[40000 rows x 12 columns], 0        1\n1        1\n2        1\n3        1\n4   ...999    1\nName: churn, Length: 40000, dtype: int64, {'score': make_scorer(roc_auc_score, needs_threshold=True)}, array([13334, 13335, 13336, ..., 39997, 39998, 39999]), array([    0,     1,     2, ..., 13331, 13332, 13333]), 0, {'learning_rate': 0.1, 'loss': 'deviance', 'max_depth': 2, 'max_features': 1.0, 'min_samples_leaf': 1, 'n_estimators': 100, 'random_state': 1}), {'error_score': 'raise', 'fit_params': {}, 'return_n_test_samples': True, 'return_parameters': False, 'return_times': True, 'return_train_score': 'warn'})]\n    132 \n    133     def __len__(self):\n    134         return self._size\n    135 \n\n...........................................................................\n/Users/ziru/anaconda/envs/py3/lib/python3.6/site-packages/sklearn/externals/joblib/parallel.py in <listcomp>(.0=<list_iterator object>)\n    126     def __init__(self, iterator_slice):\n    127         self.items = list(iterator_slice)\n    128         self._size = len(self.items)\n    129 \n    130     def __call__(self):\n--> 131         return [func(*args, **kwargs) for func, args, kwargs in self.items]\n        func = <function _fit_and_score>\n        args = (GradientBoostingClassifier(criterion='friedman_m...e=1.0, verbose=0,\n              warm_start=False),        avg_dist  luxury_car_user  member_duratio...       0           0  \n\n[40000 rows x 12 columns], 0        1\n1        1\n2        1\n3        1\n4   ...999    1\nName: churn, Length: 40000, dtype: int64, {'score': make_scorer(roc_auc_score, needs_threshold=True)}, array([13334, 13335, 13336, ..., 39997, 39998, 39999]), array([    0,     1,     2, ..., 13331, 13332, 13333]), 0, {'learning_rate': 0.1, 'loss': 'deviance', 'max_depth': 2, 'max_features': 1.0, 'min_samples_leaf': 1, 'n_estimators': 100, 'random_state': 1})\n        kwargs = {'error_score': 'raise', 'fit_params': {}, 'return_n_test_samples': True, 'return_parameters': False, 'return_times': True, 'return_train_score': 'warn'}\n    132 \n    133     def __len__(self):\n    134         return self._size\n    135 \n\n...........................................................................\n/Users/ziru/anaconda/envs/py3/lib/python3.6/site-packages/sklearn/model_selection/_validation.py in _fit_and_score(estimator=GradientBoostingClassifier(criterion='friedman_m...e=1.0, verbose=0,\n              warm_start=False), X=       avg_dist  luxury_car_user  member_duratio...       0           0  \n\n[40000 rows x 12 columns], y=0        1\n1        1\n2        1\n3        1\n4   ...999    1\nName: churn, Length: 40000, dtype: int64, scorer={'score': make_scorer(roc_auc_score, needs_threshold=True)}, train=array([13334, 13335, 13336, ..., 39997, 39998, 39999]), test=array([    0,     1,     2, ..., 13331, 13332, 13333]), verbose=0, parameters={'learning_rate': 0.1, 'loss': 'deviance', 'max_depth': 2, 'max_features': 1.0, 'min_samples_leaf': 1, 'n_estimators': 100, 'random_state': 1}, fit_params={}, return_train_score='warn', return_parameters=False, return_n_test_samples=True, return_times=True, error_score='raise')\n    453 \n    454     try:\n    455         if y_train is None:\n    456             estimator.fit(X_train, **fit_params)\n    457         else:\n--> 458             estimator.fit(X_train, y_train, **fit_params)\n        estimator.fit = <bound method BaseGradientBoosting.fit of Gradie...=1.0, verbose=0,\n              warm_start=False)>\n        X_train =        avg_dist  luxury_car_user  member_duratio...       0           0  \n\n[26666 rows x 12 columns]\n        y_train = 13334    1\n13335    1\n13336    1\n13337    1\n1333...999    1\nName: churn, Length: 26666, dtype: int64\n        fit_params = {}\n    459 \n    460     except Exception as e:\n    461         # Note fit time as time until error\n    462         fit_time = time.time() - start_time\n\n...........................................................................\n/Users/ziru/anaconda/envs/py3/lib/python3.6/site-packages/sklearn/ensemble/gradient_boosting.py in fit(self=GradientBoostingClassifier(criterion='friedman_m...e=1.0, verbose=0,\n              warm_start=False), X=array([[  13.19999981,    0.        ,  163.     ...      0.        ,    0.        ]], dtype=float32), y=array([0, 0, 0, ..., 0, 0, 0]), sample_weight=array([ 1.,  1.,  1., ...,  1.,  1.,  1.], dtype=float32), monitor=None)\n    986         check_consistent_length(X, y, sample_weight)\n    987 \n    988         y = self._validate_y(y)\n    989 \n    990         random_state = check_random_state(self.random_state)\n--> 991         self._check_params()\n        self._check_params = <bound method BaseGradientBoosting._check_params...=1.0, verbose=0,\n              warm_start=False)>\n    992 \n    993         if not self._is_initialized():\n    994             # init state\n    995             self._init_state()\n\n...........................................................................\n/Users/ziru/anaconda/envs/py3/lib/python3.6/site-packages/sklearn/ensemble/gradient_boosting.py in _check_params(self=GradientBoostingClassifier(criterion='friedman_m...e=1.0, verbose=0,\n              warm_start=False))\n    824             loss_class = LOSS_FUNCTIONS[self.loss]\n    825 \n    826         if self.loss in ('huber', 'quantile'):\n    827             self.loss_ = loss_class(self.n_classes_, self.alpha)\n    828         else:\n--> 829             self.loss_ = loss_class(self.n_classes_)\n        self.loss_ = undefined\n        loss_class = <class 'sklearn.ensemble.gradient_boosting.BinomialDeviance'>\n        self.n_classes_ = 1\n    830 \n    831         if not (0.0 < self.subsample <= 1.0):\n    832             raise ValueError(\"subsample must be in (0,1] but \"\n    833                              \"was %r\" % self.subsample)\n\n...........................................................................\n/Users/ziru/anaconda/envs/py3/lib/python3.6/site-packages/sklearn/ensemble/gradient_boosting.py in __init__(self=<sklearn.ensemble.gradient_boosting.BinomialDeviance object>, n_classes=1)\n    467     fit one tree instead of ``n_classes`` trees.\n    468     \"\"\"\n    469     def __init__(self, n_classes):\n    470         if n_classes != 2:\n    471             raise ValueError(\"{0:s} requires 2 classes.\".format(\n--> 472                 self.__class__.__name__))\n        self.__class__.__name__ = 'BinomialDeviance'\n    473         # we only need to fit one tree for binary clf.\n    474         super(BinomialDeviance, self).__init__(1)\n    475 \n    476     def init_estimator(self):\n\nValueError: BinomialDeviance requires 2 classes.\n___________________________________________________________________________\n\"\"\"",
      "\nThe above exception was the direct cause of the following exception:\n",
      "\u001b[0;31mTransportableException\u001b[0m                    Traceback (most recent call last)",
      "\u001b[0;32m/Users/ziru/anaconda/envs/py3/lib/python3.6/site-packages/sklearn/externals/joblib/parallel.py\u001b[0m in \u001b[0;36mretrieve\u001b[0;34m(self)\u001b[0m\n\u001b[1;32m    698\u001b[0m                 \u001b[0;32mif\u001b[0m \u001b[0mgetattr\u001b[0m\u001b[0;34m(\u001b[0m\u001b[0mself\u001b[0m\u001b[0;34m.\u001b[0m\u001b[0m_backend\u001b[0m\u001b[0;34m,\u001b[0m \u001b[0;34m'supports_timeout'\u001b[0m\u001b[0;34m,\u001b[0m \u001b[0;32mFalse\u001b[0m\u001b[0;34m)\u001b[0m\u001b[0;34m:\u001b[0m\u001b[0;34m\u001b[0m\u001b[0m\n\u001b[0;32m--> 699\u001b[0;31m                     \u001b[0mself\u001b[0m\u001b[0;34m.\u001b[0m\u001b[0m_output\u001b[0m\u001b[0;34m.\u001b[0m\u001b[0mextend\u001b[0m\u001b[0;34m(\u001b[0m\u001b[0mjob\u001b[0m\u001b[0;34m.\u001b[0m\u001b[0mget\u001b[0m\u001b[0;34m(\u001b[0m\u001b[0mtimeout\u001b[0m\u001b[0;34m=\u001b[0m\u001b[0mself\u001b[0m\u001b[0;34m.\u001b[0m\u001b[0mtimeout\u001b[0m\u001b[0;34m)\u001b[0m\u001b[0;34m)\u001b[0m\u001b[0;34m\u001b[0m\u001b[0m\n\u001b[0m\u001b[1;32m    700\u001b[0m                 \u001b[0;32melse\u001b[0m\u001b[0;34m:\u001b[0m\u001b[0;34m\u001b[0m\u001b[0m\n",
      "\u001b[0;32m/Users/ziru/anaconda/envs/py3/lib/python3.6/multiprocessing/pool.py\u001b[0m in \u001b[0;36mget\u001b[0;34m(self, timeout)\u001b[0m\n\u001b[1;32m    607\u001b[0m         \u001b[0;32melse\u001b[0m\u001b[0;34m:\u001b[0m\u001b[0;34m\u001b[0m\u001b[0m\n\u001b[0;32m--> 608\u001b[0;31m             \u001b[0;32mraise\u001b[0m \u001b[0mself\u001b[0m\u001b[0;34m.\u001b[0m\u001b[0m_value\u001b[0m\u001b[0;34m\u001b[0m\u001b[0m\n\u001b[0m\u001b[1;32m    609\u001b[0m \u001b[0;34m\u001b[0m\u001b[0m\n",
      "\u001b[0;31mTransportableException\u001b[0m: TransportableException\n___________________________________________________________________________\nValueError                                         Fri Dec  1 15:34:50 2017\nPID: 48225           Python 3.6.1: /Users/ziru/anaconda/envs/py3/bin/python\n...........................................................................\n/Users/ziru/anaconda/envs/py3/lib/python3.6/site-packages/sklearn/externals/joblib/parallel.py in __call__(self=<sklearn.externals.joblib.parallel.BatchedCalls object>)\n    126     def __init__(self, iterator_slice):\n    127         self.items = list(iterator_slice)\n    128         self._size = len(self.items)\n    129 \n    130     def __call__(self):\n--> 131         return [func(*args, **kwargs) for func, args, kwargs in self.items]\n        self.items = [(<function _fit_and_score>, (GradientBoostingClassifier(criterion='friedman_m...e=1.0, verbose=0,\n              warm_start=False),        avg_dist  luxury_car_user  member_duratio...       0           0  \n\n[40000 rows x 12 columns], 0        1\n1        1\n2        1\n3        1\n4   ...999    1\nName: churn, Length: 40000, dtype: int64, {'score': make_scorer(roc_auc_score, needs_threshold=True)}, array([13334, 13335, 13336, ..., 39997, 39998, 39999]), array([    0,     1,     2, ..., 13331, 13332, 13333]), 0, {'learning_rate': 0.1, 'loss': 'deviance', 'max_depth': 2, 'max_features': 1.0, 'min_samples_leaf': 1, 'n_estimators': 100, 'random_state': 1}), {'error_score': 'raise', 'fit_params': {}, 'return_n_test_samples': True, 'return_parameters': False, 'return_times': True, 'return_train_score': 'warn'})]\n    132 \n    133     def __len__(self):\n    134         return self._size\n    135 \n\n...........................................................................\n/Users/ziru/anaconda/envs/py3/lib/python3.6/site-packages/sklearn/externals/joblib/parallel.py in <listcomp>(.0=<list_iterator object>)\n    126     def __init__(self, iterator_slice):\n    127         self.items = list(iterator_slice)\n    128         self._size = len(self.items)\n    129 \n    130     def __call__(self):\n--> 131         return [func(*args, **kwargs) for func, args, kwargs in self.items]\n        func = <function _fit_and_score>\n        args = (GradientBoostingClassifier(criterion='friedman_m...e=1.0, verbose=0,\n              warm_start=False),        avg_dist  luxury_car_user  member_duratio...       0           0  \n\n[40000 rows x 12 columns], 0        1\n1        1\n2        1\n3        1\n4   ...999    1\nName: churn, Length: 40000, dtype: int64, {'score': make_scorer(roc_auc_score, needs_threshold=True)}, array([13334, 13335, 13336, ..., 39997, 39998, 39999]), array([    0,     1,     2, ..., 13331, 13332, 13333]), 0, {'learning_rate': 0.1, 'loss': 'deviance', 'max_depth': 2, 'max_features': 1.0, 'min_samples_leaf': 1, 'n_estimators': 100, 'random_state': 1})\n        kwargs = {'error_score': 'raise', 'fit_params': {}, 'return_n_test_samples': True, 'return_parameters': False, 'return_times': True, 'return_train_score': 'warn'}\n    132 \n    133     def __len__(self):\n    134         return self._size\n    135 \n\n...........................................................................\n/Users/ziru/anaconda/envs/py3/lib/python3.6/site-packages/sklearn/model_selection/_validation.py in _fit_and_score(estimator=GradientBoostingClassifier(criterion='friedman_m...e=1.0, verbose=0,\n              warm_start=False), X=       avg_dist  luxury_car_user  member_duratio...       0           0  \n\n[40000 rows x 12 columns], y=0        1\n1        1\n2        1\n3        1\n4   ...999    1\nName: churn, Length: 40000, dtype: int64, scorer={'score': make_scorer(roc_auc_score, needs_threshold=True)}, train=array([13334, 13335, 13336, ..., 39997, 39998, 39999]), test=array([    0,     1,     2, ..., 13331, 13332, 13333]), verbose=0, parameters={'learning_rate': 0.1, 'loss': 'deviance', 'max_depth': 2, 'max_features': 1.0, 'min_samples_leaf': 1, 'n_estimators': 100, 'random_state': 1}, fit_params={}, return_train_score='warn', return_parameters=False, return_n_test_samples=True, return_times=True, error_score='raise')\n    453 \n    454     try:\n    455         if y_train is None:\n    456             estimator.fit(X_train, **fit_params)\n    457         else:\n--> 458             estimator.fit(X_train, y_train, **fit_params)\n        estimator.fit = <bound method BaseGradientBoosting.fit of Gradie...=1.0, verbose=0,\n              warm_start=False)>\n        X_train =        avg_dist  luxury_car_user  member_duratio...       0           0  \n\n[26666 rows x 12 columns]\n        y_train = 13334    1\n13335    1\n13336    1\n13337    1\n1333...999    1\nName: churn, Length: 26666, dtype: int64\n        fit_params = {}\n    459 \n    460     except Exception as e:\n    461         # Note fit time as time until error\n    462         fit_time = time.time() - start_time\n\n...........................................................................\n/Users/ziru/anaconda/envs/py3/lib/python3.6/site-packages/sklearn/ensemble/gradient_boosting.py in fit(self=GradientBoostingClassifier(criterion='friedman_m...e=1.0, verbose=0,\n              warm_start=False), X=array([[  13.19999981,    0.        ,  163.     ...      0.        ,    0.        ]], dtype=float32), y=array([0, 0, 0, ..., 0, 0, 0]), sample_weight=array([ 1.,  1.,  1., ...,  1.,  1.,  1.], dtype=float32), monitor=None)\n    986         check_consistent_length(X, y, sample_weight)\n    987 \n    988         y = self._validate_y(y)\n    989 \n    990         random_state = check_random_state(self.random_state)\n--> 991         self._check_params()\n        self._check_params = <bound method BaseGradientBoosting._check_params...=1.0, verbose=0,\n              warm_start=False)>\n    992 \n    993         if not self._is_initialized():\n    994             # init state\n    995             self._init_state()\n\n...........................................................................\n/Users/ziru/anaconda/envs/py3/lib/python3.6/site-packages/sklearn/ensemble/gradient_boosting.py in _check_params(self=GradientBoostingClassifier(criterion='friedman_m...e=1.0, verbose=0,\n              warm_start=False))\n    824             loss_class = LOSS_FUNCTIONS[self.loss]\n    825 \n    826         if self.loss in ('huber', 'quantile'):\n    827             self.loss_ = loss_class(self.n_classes_, self.alpha)\n    828         else:\n--> 829             self.loss_ = loss_class(self.n_classes_)\n        self.loss_ = undefined\n        loss_class = <class 'sklearn.ensemble.gradient_boosting.BinomialDeviance'>\n        self.n_classes_ = 1\n    830 \n    831         if not (0.0 < self.subsample <= 1.0):\n    832             raise ValueError(\"subsample must be in (0,1] but \"\n    833                              \"was %r\" % self.subsample)\n\n...........................................................................\n/Users/ziru/anaconda/envs/py3/lib/python3.6/site-packages/sklearn/ensemble/gradient_boosting.py in __init__(self=<sklearn.ensemble.gradient_boosting.BinomialDeviance object>, n_classes=1)\n    467     fit one tree instead of ``n_classes`` trees.\n    468     \"\"\"\n    469     def __init__(self, n_classes):\n    470         if n_classes != 2:\n    471             raise ValueError(\"{0:s} requires 2 classes.\".format(\n--> 472                 self.__class__.__name__))\n        self.__class__.__name__ = 'BinomialDeviance'\n    473         # we only need to fit one tree for binary clf.\n    474         super(BinomialDeviance, self).__init__(1)\n    475 \n    476     def init_estimator(self):\n\nValueError: BinomialDeviance requires 2 classes.\n___________________________________________________________________________",
      "\nDuring handling of the above exception, another exception occurred:\n",
      "\u001b[0;31mJoblibValueError\u001b[0m                          Traceback (most recent call last)",
      "\u001b[0;32m<ipython-input-124-42bc4c340b1a>\u001b[0m in \u001b[0;36m<module>\u001b[0;34m()\u001b[0m\n\u001b[1;32m     12\u001b[0m                               \u001b[0mn_jobs\u001b[0m\u001b[0;34m=\u001b[0m\u001b[0;34m-\u001b[0m\u001b[0;36m1\u001b[0m\u001b[0;34m,\u001b[0m\u001b[0;34m\u001b[0m\u001b[0m\n\u001b[1;32m     13\u001b[0m                               scoring='roc_auc')\n\u001b[0;32m---> 14\u001b[0;31m \u001b[0mgbclf_gridsearch\u001b[0m\u001b[0;34m.\u001b[0m\u001b[0mfit\u001b[0m\u001b[0;34m(\u001b[0m\u001b[0mX_train_round1\u001b[0m\u001b[0;34m,\u001b[0m \u001b[0my_train_round1\u001b[0m\u001b[0;34m)\u001b[0m\u001b[0;34m\u001b[0m\u001b[0m\n\u001b[0m\u001b[1;32m     15\u001b[0m \u001b[0mprint\u001b[0m \u001b[0;34m(\u001b[0m\u001b[0;34m\"best parameters:\"\u001b[0m\u001b[0;34m,\u001b[0m \u001b[0mgbclf_gridsearch\u001b[0m\u001b[0;34m.\u001b[0m\u001b[0mbest_params_\u001b[0m\u001b[0;34m)\u001b[0m\u001b[0;34m\u001b[0m\u001b[0m\n\u001b[1;32m     16\u001b[0m \u001b[0;34m\u001b[0m\u001b[0m\n",
      "\u001b[0;32m/Users/ziru/anaconda/envs/py3/lib/python3.6/site-packages/sklearn/model_selection/_search.py\u001b[0m in \u001b[0;36mfit\u001b[0;34m(self, X, y, groups, **fit_params)\u001b[0m\n\u001b[1;32m    637\u001b[0m                                   error_score=self.error_score)\n\u001b[1;32m    638\u001b[0m           for parameters, (train, test) in product(candidate_params,\n\u001b[0;32m--> 639\u001b[0;31m                                                    cv.split(X, y, groups)))\n\u001b[0m\u001b[1;32m    640\u001b[0m \u001b[0;34m\u001b[0m\u001b[0m\n\u001b[1;32m    641\u001b[0m         \u001b[0;31m# if one choose to see train score, \"out\" will contain train score info\u001b[0m\u001b[0;34m\u001b[0m\u001b[0;34m\u001b[0m\u001b[0m\n",
      "\u001b[0;32m/Users/ziru/anaconda/envs/py3/lib/python3.6/site-packages/sklearn/externals/joblib/parallel.py\u001b[0m in \u001b[0;36m__call__\u001b[0;34m(self, iterable)\u001b[0m\n\u001b[1;32m    787\u001b[0m                 \u001b[0;31m# consumption.\u001b[0m\u001b[0;34m\u001b[0m\u001b[0;34m\u001b[0m\u001b[0m\n\u001b[1;32m    788\u001b[0m                 \u001b[0mself\u001b[0m\u001b[0;34m.\u001b[0m\u001b[0m_iterating\u001b[0m \u001b[0;34m=\u001b[0m \u001b[0;32mFalse\u001b[0m\u001b[0;34m\u001b[0m\u001b[0m\n\u001b[0;32m--> 789\u001b[0;31m             \u001b[0mself\u001b[0m\u001b[0;34m.\u001b[0m\u001b[0mretrieve\u001b[0m\u001b[0;34m(\u001b[0m\u001b[0;34m)\u001b[0m\u001b[0;34m\u001b[0m\u001b[0m\n\u001b[0m\u001b[1;32m    790\u001b[0m             \u001b[0;31m# Make sure that we get a last message telling us we are done\u001b[0m\u001b[0;34m\u001b[0m\u001b[0;34m\u001b[0m\u001b[0m\n\u001b[1;32m    791\u001b[0m             \u001b[0melapsed_time\u001b[0m \u001b[0;34m=\u001b[0m \u001b[0mtime\u001b[0m\u001b[0;34m.\u001b[0m\u001b[0mtime\u001b[0m\u001b[0;34m(\u001b[0m\u001b[0;34m)\u001b[0m \u001b[0;34m-\u001b[0m \u001b[0mself\u001b[0m\u001b[0;34m.\u001b[0m\u001b[0m_start_time\u001b[0m\u001b[0;34m\u001b[0m\u001b[0m\n",
      "\u001b[0;32m/Users/ziru/anaconda/envs/py3/lib/python3.6/site-packages/sklearn/externals/joblib/parallel.py\u001b[0m in \u001b[0;36mretrieve\u001b[0;34m(self)\u001b[0m\n\u001b[1;32m    738\u001b[0m                     \u001b[0mexception\u001b[0m \u001b[0;34m=\u001b[0m \u001b[0mexception_type\u001b[0m\u001b[0;34m(\u001b[0m\u001b[0mreport\u001b[0m\u001b[0;34m)\u001b[0m\u001b[0;34m\u001b[0m\u001b[0m\n\u001b[1;32m    739\u001b[0m \u001b[0;34m\u001b[0m\u001b[0m\n\u001b[0;32m--> 740\u001b[0;31m                     \u001b[0;32mraise\u001b[0m \u001b[0mexception\u001b[0m\u001b[0;34m\u001b[0m\u001b[0m\n\u001b[0m\u001b[1;32m    741\u001b[0m \u001b[0;34m\u001b[0m\u001b[0m\n\u001b[1;32m    742\u001b[0m     \u001b[0;32mdef\u001b[0m \u001b[0m__call__\u001b[0m\u001b[0;34m(\u001b[0m\u001b[0mself\u001b[0m\u001b[0;34m,\u001b[0m \u001b[0miterable\u001b[0m\u001b[0;34m)\u001b[0m\u001b[0;34m:\u001b[0m\u001b[0;34m\u001b[0m\u001b[0m\n",
      "\u001b[0;31mJoblibValueError\u001b[0m: JoblibValueError\n___________________________________________________________________________\nMultiprocessing exception:\n...........................................................................\n/Users/ziru/anaconda/envs/py3/lib/python3.6/runpy.py in _run_module_as_main(mod_name='ipykernel_launcher', alter_argv=1)\n    188         sys.exit(msg)\n    189     main_globals = sys.modules[\"__main__\"].__dict__\n    190     if alter_argv:\n    191         sys.argv[0] = mod_spec.origin\n    192     return _run_code(code, main_globals, None,\n--> 193                      \"__main__\", mod_spec)\n        mod_spec = ModuleSpec(name='ipykernel_launcher', loader=<_f...b/python3.6/site-packages/ipykernel_launcher.py')\n    194 \n    195 def run_module(mod_name, init_globals=None,\n    196                run_name=None, alter_sys=False):\n    197     \"\"\"Execute a module's code without importing it\n\n...........................................................................\n/Users/ziru/anaconda/envs/py3/lib/python3.6/runpy.py in _run_code(code=<code object <module> at 0x10a061660, file \"/Use...3.6/site-packages/ipykernel_launcher.py\", line 5>, run_globals={'__annotations__': {}, '__builtins__': <module 'builtins' (built-in)>, '__cached__': '/Users/ziru/anaconda/envs/py3/lib/python3.6/site...ges/__pycache__/ipykernel_launcher.cpython-36.pyc', '__doc__': 'Entry point for launching an IPython kernel.\\n\\nTh...orts until\\nafter removing the cwd from sys.path.\\n', '__file__': '/Users/ziru/anaconda/envs/py3/lib/python3.6/site-packages/ipykernel_launcher.py', '__loader__': <_frozen_importlib_external.SourceFileLoader object>, '__name__': '__main__', '__package__': '', '__spec__': ModuleSpec(name='ipykernel_launcher', loader=<_f...b/python3.6/site-packages/ipykernel_launcher.py'), 'app': <module 'ipykernel.kernelapp' from '/Users/ziru/.../python3.6/site-packages/ipykernel/kernelapp.py'>, ...}, init_globals=None, mod_name='__main__', mod_spec=ModuleSpec(name='ipykernel_launcher', loader=<_f...b/python3.6/site-packages/ipykernel_launcher.py'), pkg_name='', script_name=None)\n     80                        __cached__ = cached,\n     81                        __doc__ = None,\n     82                        __loader__ = loader,\n     83                        __package__ = pkg_name,\n     84                        __spec__ = mod_spec)\n---> 85     exec(code, run_globals)\n        code = <code object <module> at 0x10a061660, file \"/Use...3.6/site-packages/ipykernel_launcher.py\", line 5>\n        run_globals = {'__annotations__': {}, '__builtins__': <module 'builtins' (built-in)>, '__cached__': '/Users/ziru/anaconda/envs/py3/lib/python3.6/site...ges/__pycache__/ipykernel_launcher.cpython-36.pyc', '__doc__': 'Entry point for launching an IPython kernel.\\n\\nTh...orts until\\nafter removing the cwd from sys.path.\\n', '__file__': '/Users/ziru/anaconda/envs/py3/lib/python3.6/site-packages/ipykernel_launcher.py', '__loader__': <_frozen_importlib_external.SourceFileLoader object>, '__name__': '__main__', '__package__': '', '__spec__': ModuleSpec(name='ipykernel_launcher', loader=<_f...b/python3.6/site-packages/ipykernel_launcher.py'), 'app': <module 'ipykernel.kernelapp' from '/Users/ziru/.../python3.6/site-packages/ipykernel/kernelapp.py'>, ...}\n     86     return run_globals\n     87 \n     88 def _run_module_code(code, init_globals=None,\n     89                     mod_name=None, mod_spec=None,\n\n...........................................................................\n/Users/ziru/anaconda/envs/py3/lib/python3.6/site-packages/ipykernel_launcher.py in <module>()\n     11     # This is added back by InteractiveShellApp.init_path()\n     12     if sys.path[0] == '':\n     13         del sys.path[0]\n     14 \n     15     from ipykernel import kernelapp as app\n---> 16     app.launch_new_instance()\n\n...........................................................................\n/Users/ziru/anaconda/envs/py3/lib/python3.6/site-packages/traitlets/config/application.py in launch_instance(cls=<class 'ipykernel.kernelapp.IPKernelApp'>, argv=None, **kwargs={})\n    653 \n    654         If a global instance already exists, this reinitializes and starts it\n    655         \"\"\"\n    656         app = cls.instance(**kwargs)\n    657         app.initialize(argv)\n--> 658         app.start()\n        app.start = <bound method IPKernelApp.start of <ipykernel.kernelapp.IPKernelApp object>>\n    659 \n    660 #-----------------------------------------------------------------------------\n    661 # utility functions, for convenience\n    662 #-----------------------------------------------------------------------------\n\n...........................................................................\n/Users/ziru/anaconda/envs/py3/lib/python3.6/site-packages/ipykernel/kernelapp.py in start(self=<ipykernel.kernelapp.IPKernelApp object>)\n    472             return self.subapp.start()\n    473         if self.poller is not None:\n    474             self.poller.start()\n    475         self.kernel.start()\n    476         try:\n--> 477             ioloop.IOLoop.instance().start()\n    478         except KeyboardInterrupt:\n    479             pass\n    480 \n    481 launch_new_instance = IPKernelApp.launch_instance\n\n...........................................................................\n/Users/ziru/anaconda/envs/py3/lib/python3.6/site-packages/zmq/eventloop/ioloop.py in start(self=<zmq.eventloop.ioloop.ZMQIOLoop object>)\n    172             )\n    173         return loop\n    174     \n    175     def start(self):\n    176         try:\n--> 177             super(ZMQIOLoop, self).start()\n        self.start = <bound method ZMQIOLoop.start of <zmq.eventloop.ioloop.ZMQIOLoop object>>\n    178         except ZMQError as e:\n    179             if e.errno == ETERM:\n    180                 # quietly return on ETERM\n    181                 pass\n\n...........................................................................\n/Users/ziru/anaconda/envs/py3/lib/python3.6/site-packages/tornado/ioloop.py in start(self=<zmq.eventloop.ioloop.ZMQIOLoop object>)\n    883                 self._events.update(event_pairs)\n    884                 while self._events:\n    885                     fd, events = self._events.popitem()\n    886                     try:\n    887                         fd_obj, handler_func = self._handlers[fd]\n--> 888                         handler_func(fd_obj, events)\n        handler_func = <function wrap.<locals>.null_wrapper>\n        fd_obj = <zmq.sugar.socket.Socket object>\n        events = 1\n    889                     except (OSError, IOError) as e:\n    890                         if errno_from_exception(e) == errno.EPIPE:\n    891                             # Happens when the client closes the connection\n    892                             pass\n\n...........................................................................\n/Users/ziru/anaconda/envs/py3/lib/python3.6/site-packages/tornado/stack_context.py in null_wrapper(*args=(<zmq.sugar.socket.Socket object>, 1), **kwargs={})\n    272         # Fast path when there are no active contexts.\n    273         def null_wrapper(*args, **kwargs):\n    274             try:\n    275                 current_state = _state.contexts\n    276                 _state.contexts = cap_contexts[0]\n--> 277                 return fn(*args, **kwargs)\n        args = (<zmq.sugar.socket.Socket object>, 1)\n        kwargs = {}\n    278             finally:\n    279                 _state.contexts = current_state\n    280         null_wrapper._wrapped = True\n    281         return null_wrapper\n\n...........................................................................\n/Users/ziru/anaconda/envs/py3/lib/python3.6/site-packages/zmq/eventloop/zmqstream.py in _handle_events(self=<zmq.eventloop.zmqstream.ZMQStream object>, fd=<zmq.sugar.socket.Socket object>, events=1)\n    435             # dispatch events:\n    436             if events & IOLoop.ERROR:\n    437                 gen_log.error(\"got POLLERR event on ZMQStream, which doesn't make sense\")\n    438                 return\n    439             if events & IOLoop.READ:\n--> 440                 self._handle_recv()\n        self._handle_recv = <bound method ZMQStream._handle_recv of <zmq.eventloop.zmqstream.ZMQStream object>>\n    441                 if not self.socket:\n    442                     return\n    443             if events & IOLoop.WRITE:\n    444                 self._handle_send()\n\n...........................................................................\n/Users/ziru/anaconda/envs/py3/lib/python3.6/site-packages/zmq/eventloop/zmqstream.py in _handle_recv(self=<zmq.eventloop.zmqstream.ZMQStream object>)\n    467                 gen_log.error(\"RECV Error: %s\"%zmq.strerror(e.errno))\n    468         else:\n    469             if self._recv_callback:\n    470                 callback = self._recv_callback\n    471                 # self._recv_callback = None\n--> 472                 self._run_callback(callback, msg)\n        self._run_callback = <bound method ZMQStream._run_callback of <zmq.eventloop.zmqstream.ZMQStream object>>\n        callback = <function wrap.<locals>.null_wrapper>\n        msg = [<zmq.sugar.frame.Frame object>, <zmq.sugar.frame.Frame object>, <zmq.sugar.frame.Frame object>, <zmq.sugar.frame.Frame object>, <zmq.sugar.frame.Frame object>, <zmq.sugar.frame.Frame object>, <zmq.sugar.frame.Frame object>]\n    473                 \n    474         # self.update_state()\n    475         \n    476 \n\n...........................................................................\n/Users/ziru/anaconda/envs/py3/lib/python3.6/site-packages/zmq/eventloop/zmqstream.py in _run_callback(self=<zmq.eventloop.zmqstream.ZMQStream object>, callback=<function wrap.<locals>.null_wrapper>, *args=([<zmq.sugar.frame.Frame object>, <zmq.sugar.frame.Frame object>, <zmq.sugar.frame.Frame object>, <zmq.sugar.frame.Frame object>, <zmq.sugar.frame.Frame object>, <zmq.sugar.frame.Frame object>, <zmq.sugar.frame.Frame object>],), **kwargs={})\n    409         close our socket.\"\"\"\n    410         try:\n    411             # Use a NullContext to ensure that all StackContexts are run\n    412             # inside our blanket exception handler rather than outside.\n    413             with stack_context.NullContext():\n--> 414                 callback(*args, **kwargs)\n        callback = <function wrap.<locals>.null_wrapper>\n        args = ([<zmq.sugar.frame.Frame object>, <zmq.sugar.frame.Frame object>, <zmq.sugar.frame.Frame object>, <zmq.sugar.frame.Frame object>, <zmq.sugar.frame.Frame object>, <zmq.sugar.frame.Frame object>, <zmq.sugar.frame.Frame object>],)\n        kwargs = {}\n    415         except:\n    416             gen_log.error(\"Uncaught exception, closing connection.\",\n    417                           exc_info=True)\n    418             # Close the socket on an uncaught exception from a user callback\n\n...........................................................................\n/Users/ziru/anaconda/envs/py3/lib/python3.6/site-packages/tornado/stack_context.py in null_wrapper(*args=([<zmq.sugar.frame.Frame object>, <zmq.sugar.frame.Frame object>, <zmq.sugar.frame.Frame object>, <zmq.sugar.frame.Frame object>, <zmq.sugar.frame.Frame object>, <zmq.sugar.frame.Frame object>, <zmq.sugar.frame.Frame object>],), **kwargs={})\n    272         # Fast path when there are no active contexts.\n    273         def null_wrapper(*args, **kwargs):\n    274             try:\n    275                 current_state = _state.contexts\n    276                 _state.contexts = cap_contexts[0]\n--> 277                 return fn(*args, **kwargs)\n        args = ([<zmq.sugar.frame.Frame object>, <zmq.sugar.frame.Frame object>, <zmq.sugar.frame.Frame object>, <zmq.sugar.frame.Frame object>, <zmq.sugar.frame.Frame object>, <zmq.sugar.frame.Frame object>, <zmq.sugar.frame.Frame object>],)\n        kwargs = {}\n    278             finally:\n    279                 _state.contexts = current_state\n    280         null_wrapper._wrapped = True\n    281         return null_wrapper\n\n...........................................................................\n/Users/ziru/anaconda/envs/py3/lib/python3.6/site-packages/ipykernel/kernelbase.py in dispatcher(msg=[<zmq.sugar.frame.Frame object>, <zmq.sugar.frame.Frame object>, <zmq.sugar.frame.Frame object>, <zmq.sugar.frame.Frame object>, <zmq.sugar.frame.Frame object>, <zmq.sugar.frame.Frame object>, <zmq.sugar.frame.Frame object>])\n    278         if self.control_stream:\n    279             self.control_stream.on_recv(self.dispatch_control, copy=False)\n    280 \n    281         def make_dispatcher(stream):\n    282             def dispatcher(msg):\n--> 283                 return self.dispatch_shell(stream, msg)\n        msg = [<zmq.sugar.frame.Frame object>, <zmq.sugar.frame.Frame object>, <zmq.sugar.frame.Frame object>, <zmq.sugar.frame.Frame object>, <zmq.sugar.frame.Frame object>, <zmq.sugar.frame.Frame object>, <zmq.sugar.frame.Frame object>]\n    284             return dispatcher\n    285 \n    286         for s in self.shell_streams:\n    287             s.on_recv(make_dispatcher(s), copy=False)\n\n...........................................................................\n/Users/ziru/anaconda/envs/py3/lib/python3.6/site-packages/ipykernel/kernelbase.py in dispatch_shell(self=<ipykernel.ipkernel.IPythonKernel object>, stream=<zmq.eventloop.zmqstream.ZMQStream object>, msg={'buffers': [], 'content': {'allow_stdin': True, 'code': '## Grid Search for GB Classification\\n\\ngradient_b...t_gbclf_model = gbclf_gridsearch.best_estimator_\\n', 'silent': False, 'stop_on_error': True, 'store_history': True, 'user_expressions': {}}, 'header': {'date': datetime.datetime(2017, 12, 1, 23, 34, 50, 98063, tzinfo=datetime.timezone.utc), 'msg_id': '369C4A4C11314BFFA84C5EC5469301B9', 'msg_type': 'execute_request', 'session': 'EF3CD025307D43388B75A6F169388B76', 'username': 'username', 'version': '5.0'}, 'metadata': {}, 'msg_id': '369C4A4C11314BFFA84C5EC5469301B9', 'msg_type': 'execute_request', 'parent_header': {}})\n    230             self.log.warn(\"Unknown message type: %r\", msg_type)\n    231         else:\n    232             self.log.debug(\"%s: %s\", msg_type, msg)\n    233             self.pre_handler_hook()\n    234             try:\n--> 235                 handler(stream, idents, msg)\n        handler = <bound method Kernel.execute_request of <ipykernel.ipkernel.IPythonKernel object>>\n        stream = <zmq.eventloop.zmqstream.ZMQStream object>\n        idents = [b'EF3CD025307D43388B75A6F169388B76']\n        msg = {'buffers': [], 'content': {'allow_stdin': True, 'code': '## Grid Search for GB Classification\\n\\ngradient_b...t_gbclf_model = gbclf_gridsearch.best_estimator_\\n', 'silent': False, 'stop_on_error': True, 'store_history': True, 'user_expressions': {}}, 'header': {'date': datetime.datetime(2017, 12, 1, 23, 34, 50, 98063, tzinfo=datetime.timezone.utc), 'msg_id': '369C4A4C11314BFFA84C5EC5469301B9', 'msg_type': 'execute_request', 'session': 'EF3CD025307D43388B75A6F169388B76', 'username': 'username', 'version': '5.0'}, 'metadata': {}, 'msg_id': '369C4A4C11314BFFA84C5EC5469301B9', 'msg_type': 'execute_request', 'parent_header': {}}\n    236             except Exception:\n    237                 self.log.error(\"Exception in message handler:\", exc_info=True)\n    238             finally:\n    239                 self.post_handler_hook()\n\n...........................................................................\n/Users/ziru/anaconda/envs/py3/lib/python3.6/site-packages/ipykernel/kernelbase.py in execute_request(self=<ipykernel.ipkernel.IPythonKernel object>, stream=<zmq.eventloop.zmqstream.ZMQStream object>, ident=[b'EF3CD025307D43388B75A6F169388B76'], parent={'buffers': [], 'content': {'allow_stdin': True, 'code': '## Grid Search for GB Classification\\n\\ngradient_b...t_gbclf_model = gbclf_gridsearch.best_estimator_\\n', 'silent': False, 'stop_on_error': True, 'store_history': True, 'user_expressions': {}}, 'header': {'date': datetime.datetime(2017, 12, 1, 23, 34, 50, 98063, tzinfo=datetime.timezone.utc), 'msg_id': '369C4A4C11314BFFA84C5EC5469301B9', 'msg_type': 'execute_request', 'session': 'EF3CD025307D43388B75A6F169388B76', 'username': 'username', 'version': '5.0'}, 'metadata': {}, 'msg_id': '369C4A4C11314BFFA84C5EC5469301B9', 'msg_type': 'execute_request', 'parent_header': {}})\n    394         if not silent:\n    395             self.execution_count += 1\n    396             self._publish_execute_input(code, parent, self.execution_count)\n    397 \n    398         reply_content = self.do_execute(code, silent, store_history,\n--> 399                                         user_expressions, allow_stdin)\n        user_expressions = {}\n        allow_stdin = True\n    400 \n    401         # Flush output before sending the reply.\n    402         sys.stdout.flush()\n    403         sys.stderr.flush()\n\n...........................................................................\n/Users/ziru/anaconda/envs/py3/lib/python3.6/site-packages/ipykernel/ipkernel.py in do_execute(self=<ipykernel.ipkernel.IPythonKernel object>, code='## Grid Search for GB Classification\\n\\ngradient_b...t_gbclf_model = gbclf_gridsearch.best_estimator_\\n', silent=False, store_history=True, user_expressions={}, allow_stdin=True)\n    191 \n    192         self._forward_input(allow_stdin)\n    193 \n    194         reply_content = {}\n    195         try:\n--> 196             res = shell.run_cell(code, store_history=store_history, silent=silent)\n        res = undefined\n        shell.run_cell = <bound method ZMQInteractiveShell.run_cell of <ipykernel.zmqshell.ZMQInteractiveShell object>>\n        code = '## Grid Search for GB Classification\\n\\ngradient_b...t_gbclf_model = gbclf_gridsearch.best_estimator_\\n'\n        store_history = True\n        silent = False\n    197         finally:\n    198             self._restore_input()\n    199 \n    200         if res.error_before_exec is not None:\n\n...........................................................................\n/Users/ziru/anaconda/envs/py3/lib/python3.6/site-packages/ipykernel/zmqshell.py in run_cell(self=<ipykernel.zmqshell.ZMQInteractiveShell object>, *args=('## Grid Search for GB Classification\\n\\ngradient_b...t_gbclf_model = gbclf_gridsearch.best_estimator_\\n',), **kwargs={'silent': False, 'store_history': True})\n    528             )\n    529         self.payload_manager.write_payload(payload)\n    530 \n    531     def run_cell(self, *args, **kwargs):\n    532         self._last_traceback = None\n--> 533         return super(ZMQInteractiveShell, self).run_cell(*args, **kwargs)\n        self.run_cell = <bound method ZMQInteractiveShell.run_cell of <ipykernel.zmqshell.ZMQInteractiveShell object>>\n        args = ('## Grid Search for GB Classification\\n\\ngradient_b...t_gbclf_model = gbclf_gridsearch.best_estimator_\\n',)\n        kwargs = {'silent': False, 'store_history': True}\n    534 \n    535     def _showtraceback(self, etype, evalue, stb):\n    536         # try to preserve ordering of tracebacks and print statements\n    537         sys.stdout.flush()\n\n...........................................................................\n/Users/ziru/anaconda/envs/py3/lib/python3.6/site-packages/IPython/core/interactiveshell.py in run_cell(self=<ipykernel.zmqshell.ZMQInteractiveShell object>, raw_cell='## Grid Search for GB Classification\\n\\ngradient_b...t_gbclf_model = gbclf_gridsearch.best_estimator_\\n', store_history=True, silent=False, shell_futures=True)\n   2712                 self.displayhook.exec_result = result\n   2713 \n   2714                 # Execute the user code\n   2715                 interactivity = \"none\" if silent else self.ast_node_interactivity\n   2716                 has_raised = self.run_ast_nodes(code_ast.body, cell_name,\n-> 2717                    interactivity=interactivity, compiler=compiler, result=result)\n        interactivity = 'last_expr'\n        compiler = <IPython.core.compilerop.CachingCompiler object>\n   2718                 \n   2719                 self.last_execution_succeeded = not has_raised\n   2720 \n   2721                 # Reset this so later displayed values do not modify the\n\n...........................................................................\n/Users/ziru/anaconda/envs/py3/lib/python3.6/site-packages/IPython/core/interactiveshell.py in run_ast_nodes(self=<ipykernel.zmqshell.ZMQInteractiveShell object>, nodelist=[<_ast.Assign object>, <_ast.Assign object>, <_ast.Expr object>, <_ast.Expr object>, <_ast.Assign object>], cell_name='<ipython-input-124-42bc4c340b1a>', interactivity='none', compiler=<IPython.core.compilerop.CachingCompiler object>, result=<ExecutionResult object at 1123a2f60, execution_..._before_exec=None error_in_exec=None result=None>)\n   2816 \n   2817         try:\n   2818             for i, node in enumerate(to_run_exec):\n   2819                 mod = ast.Module([node])\n   2820                 code = compiler(mod, cell_name, \"exec\")\n-> 2821                 if self.run_code(code, result):\n        self.run_code = <bound method InteractiveShell.run_code of <ipykernel.zmqshell.ZMQInteractiveShell object>>\n        code = <code object <module> at 0x1a49447300, file \"<ipython-input-124-42bc4c340b1a>\", line 14>\n        result = <ExecutionResult object at 1123a2f60, execution_..._before_exec=None error_in_exec=None result=None>\n   2822                     return True\n   2823 \n   2824             for i, node in enumerate(to_run_interactive):\n   2825                 mod = ast.Interactive([node])\n\n...........................................................................\n/Users/ziru/anaconda/envs/py3/lib/python3.6/site-packages/IPython/core/interactiveshell.py in run_code(self=<ipykernel.zmqshell.ZMQInteractiveShell object>, code_obj=<code object <module> at 0x1a49447300, file \"<ipython-input-124-42bc4c340b1a>\", line 14>, result=<ExecutionResult object at 1123a2f60, execution_..._before_exec=None error_in_exec=None result=None>)\n   2876         outflag = 1  # happens in more places, so it's easier as default\n   2877         try:\n   2878             try:\n   2879                 self.hooks.pre_run_code_hook()\n   2880                 #rprint('Running code', repr(code_obj)) # dbg\n-> 2881                 exec(code_obj, self.user_global_ns, self.user_ns)\n        code_obj = <code object <module> at 0x1a49447300, file \"<ipython-input-124-42bc4c340b1a>\", line 14>\n        self.user_global_ns = {'GradientBoostingClassifier': <class 'sklearn.ensemble.gradient_boosting.GradientBoostingClassifier'>, 'GradientBoostingRegressor': <class 'sklearn.ensemble.gradient_boosting.GradientBoostingRegressor'>, 'GridSearchCV': <class 'sklearn.model_selection._search.GridSearchCV'>, 'In': ['', 'import sys\\nsys.path.pop(0)', \"import matplotlib.pyplot as plt\\nimport pandas as...earchCV\\n\\nget_ipython().magic('matplotlib inline')\", \"df_train_orig = pd.read_csv('data/churn_train.cs...train_orig)\\ndf_test = brutal_fillna(df_test_orig)\", 'df_train.head()', 'df_test.head()', \"train_feature_round1 = ['churn','member_duration...car_user', 'trips_in_first_30_days', 'surge_pct']\", 'df_train_round1 = df_train[train_feature_round1]\\ndf_test_round1 = df_test[test_feature_round1]', 'train_len = len(df_train)\\nmaster_set_round1 =  p..., df_test_round1], axis=0).reset_index(drop=True)', \"# dummy phone, city, luxary\\nmaster_set_round1 = ...und1.drop(['phone','city'], axis=1, inplace=True)\", 'master_set_round1.head()', \"df_train_round1_new = master_set_round1[:train_l...st_round1_new.drop('churn', axis=1, inplace=True)\", 'df_train_round1_new.head()', 'df_test_round1_new.head()', \"X_train_round1 = df_train_round1_new[df_train_ro...rain_round1_new['churn'].map({True: 1, False: 0})\", 'from imblearn.over_sampling import RandomOverSam... = ros.fit_sample(X_train_round1, y_train_round1)', '## Grid Search CV for Random Forest\\n\\nrandom_fore..._)\\n\\nbest_rf_model = rf_gridsearch.best_estimator_', \"cross_val_score(best_rf_model, X_resampled_round...pled_round1, cv = 11, scoring = 'roc_auc').mean()\", 'importances = best_rf_model.feature_importances_...ticks(range(9), feature_names)\\nplt.xlim([-1, 10])', 'importances = best_rf_model.feature_importances_...ticks(range(9), feature_names)\\nplt.xlim([-1, 10])', ...], 'Out': {1: '/Library/Python/2.7/site-packages', 4:    avg_dist  avg_rating_by_driver  avg_rating_of... \n4  False          2014-05-13               49  , 5:    avg_dist  avg_rating_by_driver  avg_rating_of...  153  \n3              135  \n4              173  , 10:    avg_dist  churn  luxury_car_user  member_dura...  0           1  \n4               0           1  , 12:    avg_dist  churn  luxury_car_user  member_dura...  0           1  \n4               0           1  , 13:        avg_dist  luxury_car_user  member_duratio...          1  \n40004               0           0  , 17: 1.0, 23: 12, 24: (-1, 10), 27: <matplotlib.figure.Figure object>, ...}, 'Pipeline': <class 'sklearn.pipeline.Pipeline'>, 'RandomForestClassifier': <class 'sklearn.ensemble.forest.RandomForestClassifier'>, 'RandomOverSampler': <class 'imblearn.over_sampling.random_over_sampler.RandomOverSampler'>, 'StandardScaler': <class 'sklearn.preprocessing.data.StandardScaler'>, 'X_resampled_round1': array([[   6.94,    0.  ,  170.  , ...,    1.  ,... 0.  ,  177.  , ...,    0.  ,    0.  ,    1.  ]]), ...}\n        self.user_ns = {'GradientBoostingClassifier': <class 'sklearn.ensemble.gradient_boosting.GradientBoostingClassifier'>, 'GradientBoostingRegressor': <class 'sklearn.ensemble.gradient_boosting.GradientBoostingRegressor'>, 'GridSearchCV': <class 'sklearn.model_selection._search.GridSearchCV'>, 'In': ['', 'import sys\\nsys.path.pop(0)', \"import matplotlib.pyplot as plt\\nimport pandas as...earchCV\\n\\nget_ipython().magic('matplotlib inline')\", \"df_train_orig = pd.read_csv('data/churn_train.cs...train_orig)\\ndf_test = brutal_fillna(df_test_orig)\", 'df_train.head()', 'df_test.head()', \"train_feature_round1 = ['churn','member_duration...car_user', 'trips_in_first_30_days', 'surge_pct']\", 'df_train_round1 = df_train[train_feature_round1]\\ndf_test_round1 = df_test[test_feature_round1]', 'train_len = len(df_train)\\nmaster_set_round1 =  p..., df_test_round1], axis=0).reset_index(drop=True)', \"# dummy phone, city, luxary\\nmaster_set_round1 = ...und1.drop(['phone','city'], axis=1, inplace=True)\", 'master_set_round1.head()', \"df_train_round1_new = master_set_round1[:train_l...st_round1_new.drop('churn', axis=1, inplace=True)\", 'df_train_round1_new.head()', 'df_test_round1_new.head()', \"X_train_round1 = df_train_round1_new[df_train_ro...rain_round1_new['churn'].map({True: 1, False: 0})\", 'from imblearn.over_sampling import RandomOverSam... = ros.fit_sample(X_train_round1, y_train_round1)', '## Grid Search CV for Random Forest\\n\\nrandom_fore..._)\\n\\nbest_rf_model = rf_gridsearch.best_estimator_', \"cross_val_score(best_rf_model, X_resampled_round...pled_round1, cv = 11, scoring = 'roc_auc').mean()\", 'importances = best_rf_model.feature_importances_...ticks(range(9), feature_names)\\nplt.xlim([-1, 10])', 'importances = best_rf_model.feature_importances_...ticks(range(9), feature_names)\\nplt.xlim([-1, 10])', ...], 'Out': {1: '/Library/Python/2.7/site-packages', 4:    avg_dist  avg_rating_by_driver  avg_rating_of... \n4  False          2014-05-13               49  , 5:    avg_dist  avg_rating_by_driver  avg_rating_of...  153  \n3              135  \n4              173  , 10:    avg_dist  churn  luxury_car_user  member_dura...  0           1  \n4               0           1  , 12:    avg_dist  churn  luxury_car_user  member_dura...  0           1  \n4               0           1  , 13:        avg_dist  luxury_car_user  member_duratio...          1  \n40004               0           0  , 17: 1.0, 23: 12, 24: (-1, 10), 27: <matplotlib.figure.Figure object>, ...}, 'Pipeline': <class 'sklearn.pipeline.Pipeline'>, 'RandomForestClassifier': <class 'sklearn.ensemble.forest.RandomForestClassifier'>, 'RandomOverSampler': <class 'imblearn.over_sampling.random_over_sampler.RandomOverSampler'>, 'StandardScaler': <class 'sklearn.preprocessing.data.StandardScaler'>, 'X_resampled_round1': array([[   6.94,    0.  ,  170.  , ...,    1.  ,... 0.  ,  177.  , ...,    0.  ,    0.  ,    1.  ]]), ...}\n   2882             finally:\n   2883                 # Reset our crash handler in place\n   2884                 sys.excepthook = old_excepthook\n   2885         except SystemExit as e:\n\n...........................................................................\n/Users/ziru/Galvanize/dsi-ml-case-study/<ipython-input-124-42bc4c340b1a> in <module>()\n      9                           'random_state': [1]}\n     10 gbclf_gridsearch = GridSearchCV(GradientBoostingClassifier(), \n     11                               gradient_boosting_grid,\n     12                               n_jobs=-1,\n     13                               scoring='roc_auc')\n---> 14 gbclf_gridsearch.fit(X_train_round1, y_train_round1)\n     15 print (\"best parameters:\", gbclf_gridsearch.best_params_)\n     16 \n     17 best_gbclf_model = gbclf_gridsearch.best_estimator_\n\n...........................................................................\n/Users/ziru/anaconda/envs/py3/lib/python3.6/site-packages/sklearn/model_selection/_search.py in fit(self=GridSearchCV(cv=None, error_score='raise',\n     ...core='warn',\n       scoring='roc_auc', verbose=0), X=       avg_dist  luxury_car_user  member_duratio...       0           0  \n\n[40000 rows x 12 columns], y=0        1\n1        1\n2        1\n3        1\n4   ...999    1\nName: churn, Length: 40000, dtype: int64, groups=None, **fit_params={})\n    634                                   return_train_score=self.return_train_score,\n    635                                   return_n_test_samples=True,\n    636                                   return_times=True, return_parameters=False,\n    637                                   error_score=self.error_score)\n    638           for parameters, (train, test) in product(candidate_params,\n--> 639                                                    cv.split(X, y, groups)))\n        cv.split = <bound method StratifiedKFold.split of Stratifie...ld(n_splits=3, random_state=None, shuffle=False)>\n        X =        avg_dist  luxury_car_user  member_duratio...       0           0  \n\n[40000 rows x 12 columns]\n        y = 0        1\n1        1\n2        1\n3        1\n4   ...999    1\nName: churn, Length: 40000, dtype: int64\n        groups = None\n    640 \n    641         # if one choose to see train score, \"out\" will contain train score info\n    642         if self.return_train_score:\n    643             (train_score_dicts, test_score_dicts, test_sample_counts, fit_time,\n\n...........................................................................\n/Users/ziru/anaconda/envs/py3/lib/python3.6/site-packages/sklearn/externals/joblib/parallel.py in __call__(self=Parallel(n_jobs=-1), iterable=<generator object BaseSearchCV.fit.<locals>.<genexpr>>)\n    784             if pre_dispatch == \"all\" or n_jobs == 1:\n    785                 # The iterable was consumed all at once by the above for loop.\n    786                 # No need to wait for async callbacks to trigger to\n    787                 # consumption.\n    788                 self._iterating = False\n--> 789             self.retrieve()\n        self.retrieve = <bound method Parallel.retrieve of Parallel(n_jobs=-1)>\n    790             # Make sure that we get a last message telling us we are done\n    791             elapsed_time = time.time() - self._start_time\n    792             self._print('Done %3i out of %3i | elapsed: %s finished',\n    793                         (len(self._output), len(self._output),\n\n---------------------------------------------------------------------------\nSub-process traceback:\n---------------------------------------------------------------------------\nValueError                                         Fri Dec  1 15:34:50 2017\nPID: 48225           Python 3.6.1: /Users/ziru/anaconda/envs/py3/bin/python\n...........................................................................\n/Users/ziru/anaconda/envs/py3/lib/python3.6/site-packages/sklearn/externals/joblib/parallel.py in __call__(self=<sklearn.externals.joblib.parallel.BatchedCalls object>)\n    126     def __init__(self, iterator_slice):\n    127         self.items = list(iterator_slice)\n    128         self._size = len(self.items)\n    129 \n    130     def __call__(self):\n--> 131         return [func(*args, **kwargs) for func, args, kwargs in self.items]\n        self.items = [(<function _fit_and_score>, (GradientBoostingClassifier(criterion='friedman_m...e=1.0, verbose=0,\n              warm_start=False),        avg_dist  luxury_car_user  member_duratio...       0           0  \n\n[40000 rows x 12 columns], 0        1\n1        1\n2        1\n3        1\n4   ...999    1\nName: churn, Length: 40000, dtype: int64, {'score': make_scorer(roc_auc_score, needs_threshold=True)}, array([13334, 13335, 13336, ..., 39997, 39998, 39999]), array([    0,     1,     2, ..., 13331, 13332, 13333]), 0, {'learning_rate': 0.1, 'loss': 'deviance', 'max_depth': 2, 'max_features': 1.0, 'min_samples_leaf': 1, 'n_estimators': 100, 'random_state': 1}), {'error_score': 'raise', 'fit_params': {}, 'return_n_test_samples': True, 'return_parameters': False, 'return_times': True, 'return_train_score': 'warn'})]\n    132 \n    133     def __len__(self):\n    134         return self._size\n    135 \n\n...........................................................................\n/Users/ziru/anaconda/envs/py3/lib/python3.6/site-packages/sklearn/externals/joblib/parallel.py in <listcomp>(.0=<list_iterator object>)\n    126     def __init__(self, iterator_slice):\n    127         self.items = list(iterator_slice)\n    128         self._size = len(self.items)\n    129 \n    130     def __call__(self):\n--> 131         return [func(*args, **kwargs) for func, args, kwargs in self.items]\n        func = <function _fit_and_score>\n        args = (GradientBoostingClassifier(criterion='friedman_m...e=1.0, verbose=0,\n              warm_start=False),        avg_dist  luxury_car_user  member_duratio...       0           0  \n\n[40000 rows x 12 columns], 0        1\n1        1\n2        1\n3        1\n4   ...999    1\nName: churn, Length: 40000, dtype: int64, {'score': make_scorer(roc_auc_score, needs_threshold=True)}, array([13334, 13335, 13336, ..., 39997, 39998, 39999]), array([    0,     1,     2, ..., 13331, 13332, 13333]), 0, {'learning_rate': 0.1, 'loss': 'deviance', 'max_depth': 2, 'max_features': 1.0, 'min_samples_leaf': 1, 'n_estimators': 100, 'random_state': 1})\n        kwargs = {'error_score': 'raise', 'fit_params': {}, 'return_n_test_samples': True, 'return_parameters': False, 'return_times': True, 'return_train_score': 'warn'}\n    132 \n    133     def __len__(self):\n    134         return self._size\n    135 \n\n...........................................................................\n/Users/ziru/anaconda/envs/py3/lib/python3.6/site-packages/sklearn/model_selection/_validation.py in _fit_and_score(estimator=GradientBoostingClassifier(criterion='friedman_m...e=1.0, verbose=0,\n              warm_start=False), X=       avg_dist  luxury_car_user  member_duratio...       0           0  \n\n[40000 rows x 12 columns], y=0        1\n1        1\n2        1\n3        1\n4   ...999    1\nName: churn, Length: 40000, dtype: int64, scorer={'score': make_scorer(roc_auc_score, needs_threshold=True)}, train=array([13334, 13335, 13336, ..., 39997, 39998, 39999]), test=array([    0,     1,     2, ..., 13331, 13332, 13333]), verbose=0, parameters={'learning_rate': 0.1, 'loss': 'deviance', 'max_depth': 2, 'max_features': 1.0, 'min_samples_leaf': 1, 'n_estimators': 100, 'random_state': 1}, fit_params={}, return_train_score='warn', return_parameters=False, return_n_test_samples=True, return_times=True, error_score='raise')\n    453 \n    454     try:\n    455         if y_train is None:\n    456             estimator.fit(X_train, **fit_params)\n    457         else:\n--> 458             estimator.fit(X_train, y_train, **fit_params)\n        estimator.fit = <bound method BaseGradientBoosting.fit of Gradie...=1.0, verbose=0,\n              warm_start=False)>\n        X_train =        avg_dist  luxury_car_user  member_duratio...       0           0  \n\n[26666 rows x 12 columns]\n        y_train = 13334    1\n13335    1\n13336    1\n13337    1\n1333...999    1\nName: churn, Length: 26666, dtype: int64\n        fit_params = {}\n    459 \n    460     except Exception as e:\n    461         # Note fit time as time until error\n    462         fit_time = time.time() - start_time\n\n...........................................................................\n/Users/ziru/anaconda/envs/py3/lib/python3.6/site-packages/sklearn/ensemble/gradient_boosting.py in fit(self=GradientBoostingClassifier(criterion='friedman_m...e=1.0, verbose=0,\n              warm_start=False), X=array([[  13.19999981,    0.        ,  163.     ...      0.        ,    0.        ]], dtype=float32), y=array([0, 0, 0, ..., 0, 0, 0]), sample_weight=array([ 1.,  1.,  1., ...,  1.,  1.,  1.], dtype=float32), monitor=None)\n    986         check_consistent_length(X, y, sample_weight)\n    987 \n    988         y = self._validate_y(y)\n    989 \n    990         random_state = check_random_state(self.random_state)\n--> 991         self._check_params()\n        self._check_params = <bound method BaseGradientBoosting._check_params...=1.0, verbose=0,\n              warm_start=False)>\n    992 \n    993         if not self._is_initialized():\n    994             # init state\n    995             self._init_state()\n\n...........................................................................\n/Users/ziru/anaconda/envs/py3/lib/python3.6/site-packages/sklearn/ensemble/gradient_boosting.py in _check_params(self=GradientBoostingClassifier(criterion='friedman_m...e=1.0, verbose=0,\n              warm_start=False))\n    824             loss_class = LOSS_FUNCTIONS[self.loss]\n    825 \n    826         if self.loss in ('huber', 'quantile'):\n    827             self.loss_ = loss_class(self.n_classes_, self.alpha)\n    828         else:\n--> 829             self.loss_ = loss_class(self.n_classes_)\n        self.loss_ = undefined\n        loss_class = <class 'sklearn.ensemble.gradient_boosting.BinomialDeviance'>\n        self.n_classes_ = 1\n    830 \n    831         if not (0.0 < self.subsample <= 1.0):\n    832             raise ValueError(\"subsample must be in (0,1] but \"\n    833                              \"was %r\" % self.subsample)\n\n...........................................................................\n/Users/ziru/anaconda/envs/py3/lib/python3.6/site-packages/sklearn/ensemble/gradient_boosting.py in __init__(self=<sklearn.ensemble.gradient_boosting.BinomialDeviance object>, n_classes=1)\n    467     fit one tree instead of ``n_classes`` trees.\n    468     \"\"\"\n    469     def __init__(self, n_classes):\n    470         if n_classes != 2:\n    471             raise ValueError(\"{0:s} requires 2 classes.\".format(\n--> 472                 self.__class__.__name__))\n        self.__class__.__name__ = 'BinomialDeviance'\n    473         # we only need to fit one tree for binary clf.\n    474         super(BinomialDeviance, self).__init__(1)\n    475 \n    476     def init_estimator(self):\n\nValueError: BinomialDeviance requires 2 classes.\n___________________________________________________________________________"
     ]
    }
   ],
   "source": [
    "## Grid Search for GB Classification\n",
    "\n",
    "gradient_boosting_grid = {'learning_rate': [0.1, 0.05, 0.02],\n",
    "                          'loss': ['deviance', 'exponential'],\n",
    "                          'max_depth': [2, 4],\n",
    "                          'min_samples_leaf': [1, 2, 5],\n",
    "                          'max_features': [1.0, 0.5],\n",
    "                          'n_estimators': [100],\n",
    "                          'random_state': [1]}\n",
    "gbclf_gridsearch = GridSearchCV(GradientBoostingClassifier(), \n",
    "                              gradient_boosting_grid,\n",
    "                              n_jobs=-1,\n",
    "                              scoring='roc_auc')\n",
    "gbclf_gridsearch.fit(X_train_round1, y_train_round1)\n",
    "print (\"best parameters:\", gbclf_gridsearch.best_params_)\n",
    "\n",
    "best_gbclf_model = gbclf_gridsearch.best_estimator_\n"
   ]
  },
  {
   "cell_type": "code",
   "execution_count": 153,
   "metadata": {},
   "outputs": [
    {
     "data": {
      "text/plain": [
       "0.88369094477939425"
      ]
     },
     "execution_count": 153,
     "metadata": {},
     "output_type": "execute_result"
    }
   ],
   "source": [
    "cross_val_score(best_gbclf_model, X_train_round1, y_train_round1, cv = 11, scoring = 'recall').mean()"
   ]
  },
  {
   "cell_type": "markdown",
   "metadata": {},
   "source": [
    "### Plotting feature importance according to GBC model"
   ]
  },
  {
   "cell_type": "code",
   "execution_count": 81,
   "metadata": {},
   "outputs": [
    {
     "name": "stdout",
     "output_type": "stream",
     "text": [
      "[ 0.24670254  0.23577351  0.19244277  0.09401131  0.06160754  0.0584646\n",
      "  0.03940387  0.03903873  0.02008586  0.00946211  0.00300717  0.        ]\n"
     ]
    },
    {
     "data": {
      "text/plain": [
       "(-1, 10)"
      ]
     },
     "execution_count": 81,
     "metadata": {},
     "output_type": "execute_result"
    },
    {
     "data": {
      "image/png": "[encoded data removed]",
      "text/plain": [
       "<matplotlib.figure.Figure at 0x1a493525f8>"
      ]
     },
     "metadata": {},
     "output_type": "display_data"
    }
   ],
   "source": [
    "importances = best_gbclf_model.feature_importances_\n",
    "indices = np.argsort(importances)[::-1]\n",
    "feature_names = list(X_train_round1.columns[indices])\n",
    "print (importances[indices])\n",
    "plt.figure(figsize=(20,5))\n",
    "plt.title(\"Feature importances\")\n",
    "plt.bar(range(12), importances[indices], color=\"r\", align=\"center\")\n",
    "plt.xticks(range(12), feature_names)\n",
    "plt.xlim([-1, 10])"
   ]
  },
  {
   "cell_type": "code",
   "execution_count": 84,
   "metadata": {},
   "outputs": [
    {
     "data": {
      "text/plain": [
       "Index([              'avg_dist',        'luxury_car_user',\n",
       "              'member_duration',              'surge_pct',\n",
       "       'trips_in_first_30_days',                     6954,\n",
       "                          27628,                'Android',\n",
       "                       'iPhone',                'Astapor',\n",
       "               'King's Landing',             'Winterfell'],\n",
       "      dtype='object')"
      ]
     },
     "execution_count": 84,
     "metadata": {},
     "output_type": "execute_result"
    }
   ],
   "source": [
    "X_train_round1.columns"
   ]
  },
  {
   "cell_type": "markdown",
   "metadata": {},
   "source": [
    "### Another way to examine feature importance: partial dependence plot"
   ]
  },
  {
   "cell_type": "code",
   "execution_count": 152,
   "metadata": {},
   "outputs": [
    {
     "data": {
      "image/png": "[encoded data removed]",
      "text/plain": [
       "<matplotlib.figure.Figure at 0x1a197d9710>"
      ]
     },
     "metadata": {},
     "output_type": "display_data"
    }
   ],
   "source": [
    "from sklearn.ensemble.partial_dependence import plot_partial_dependence\n",
    "names = X_train_round1.columns\n",
    "\n",
    "features = [0,1,2,3,4,5,6,7,8,9]\n",
    "fig, axs = plot_partial_dependence(best_gbclf_model, X_train_round1, features,\n",
    "                                       feature_names=names,\n",
    "                                       n_jobs=3, grid_resolution=50)\n",
    "fig.set_size_inches(18.5, 10.5, forward=True)\n",
    "plt.subplots_adjust(top=0.9)  # tight_layout causes overlap with suptitle"
   ]
  }
 ],
 "metadata": {
  "kernelspec": {
   "display_name": "Python 2",
   "language": "python",
   "name": "python2"
  },
  "language_info": {
   "codemirror_mode": {
    "name": "ipython",
    "version": 2
   },
   "file_extension": ".py",
   "mimetype": "text/x-python",
   "name": "python",
   "nbconvert_exporter": "python",
   "pygments_lexer": "ipython2",
   "version": "2.7.13"
  }
 },
 "nbformat": 4,
 "nbformat_minor": 2
}
